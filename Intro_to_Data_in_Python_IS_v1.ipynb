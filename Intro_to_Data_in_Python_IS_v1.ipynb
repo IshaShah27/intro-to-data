{
  "cells": [
    {
      "cell_type": "markdown",
      "source": [
        "#**Intro to Data**\n",
        "### *(using Python)*\n",
        "*Presented by Columbia University Libraries*\n",
        "***\n",
        "\n",
        "Welcome to the Columbia University Library's Intro to Data using Python course! These are our objectives:\n",
        "\n",
        "* Understanding what it *means* to use data\n",
        "* How to think critically and work responsibly with imperfect data\n",
        "* Fundamentals of data wrangling using Pandas\n",
        "* Awareness of Python's statistical and visualization capabilities\n",
        "*   Awareness of available datasets and where to find them\n",
        "* An insatiable desire to learn more about using data!\n",
        "\n",
        "\n",
        "\n",
        "\n"
      ],
      "metadata": {
        "id": "swftxqBHPEC_",
        "colab_type": "text"
      }
    },
    {
      "cell_type": "markdown",
      "source": [
        "## **Principles of data analysis**\n",
        "***\n",
        "No matter the context in which you're using data, there will **always** be a few principles you must follow. At the end of the day, you *are* doing science - you are using empirical observations to test hypotheses (and occasionally, to predict the future based on these hypotheses). Therefore, it is important to follow the same principles that guide scientific inquiry. These are in use far beyond academia. Regardless of where you work, whether a tech firm, bank, non-profit, or research institution, your analytical work **must** be:\n",
        "1. Well-documented\n",
        "2. Conscientious in reducing bias (the same way we randomize trials and only collect the data we need to answer a specific question, we have to make sure our data are clean, examined for potential bias, and are suited to the question we want to answer)\n",
        "2. Reproducible (commenting and code sharing are crucial)\n",
        "3. Responsibly and clearly communicated (you've done all the work, and now it's important to get it out in the world! Communicating the results of data analyses can be very difficult, especially to folks who don't have a background in it. It is your responsibility to do the best you can in stating what your research can and can't answer, and to make sure that any communication about the data comes from the data - don't make unfounded leaps, or allow others to)\n",
        "\n",
        "Throughout this guide, you will see a subtitle for each section that shows you the *tool* we are using to perform each part of data analysis. This is to emphasize the greater importance of the *general concepts and principles* of data analysis that are constant across any language or context, rather than the tools used."
      ],
      "metadata": {
        "id": "ID_fhtDzhgGU",
        "colab_type": "text"
      }
    },
    {
      "cell_type": "markdown",
      "source": [
        "## **Getting started**\n",
        "### *(with Google Colab)*\n",
        "\n",
        "Topics to be covered:\n",
        "1. What is Python?\n",
        "2. Why does it matter?\n",
        "3. How can you use Python? (cover IDEs, notebooks, Terminal + mention why we are using Colab, and where to go to install an IDE - this can just be a link to Anaconda or some resource already out there that walks through setup)\n",
        "4. What are packages and why do we need them?\n",
        "5. Basic familiarity with Colab (code vs text blocks, shareability, where the computing power is coming from, and how to access files from it)\n",
        "6. Pitfalls of using colab - might not be as easy to customize (package-wise), requires internet, additional steps to access files - but emphasize that usually for presentability and shareability Colab may still be the best tool\n"
      ],
      "metadata": {
        "id": "MB2Yn8LqTheu",
        "colab_type": "text"
      }
    },
    {
      "cell_type": "markdown",
      "source": [
        "## **Data import and quality checking** \n",
        "### *(with Pandas)*\n",
        "***\n",
        "Topics to be covered, all demoed using NYC taxi dataset:\n",
        "\n",
        "1. Importing csv, txt, excel files\n",
        "2. Looking at (an extract) of the dataset (.head), talk through what students observe and would assume about the data, and the data type for different fields + characteristics of each type\n",
        "3. Data quality checking: beginning and ending dates, finding min and max values for each field, or number of unique values (try to make sure there's at least a few fakeouts - ie \"number of violations\" or something is a numeric field, but it only ranges from 1-5 and corresponds to categories rather than the actual number of violations)\n",
        "4. The most common ways in which data are imperfect (missing data, duplication, truncation, misleading names)\n",
        "5. Larger questions you should ask about your data (how was this collected? Is this helpful in answering the question I already have, or should I come up with new questions I can ask this particular data with confidence?)\n"
      ],
      "metadata": {
        "id": "oLjqf2bkU-YM",
        "colab_type": "text"
      }
    },
    {
      "cell_type": "markdown",
      "source": [
        "## **Data wrangling**\n",
        "### *(using Pandas)*\n",
        "***\n",
        "Topics to be covered:\n",
        "1. Math and string operations between columns \n",
        "2. Summarizing\n",
        "aside: + you can and should define your own functions (we said that code should be reproducible - if others are using your code or looking at it, functions are a good way to keep things in order)\n",
        "3. Reshaping\n",
        "4. Merging (will need to find another dataset to merge with)\n",
        "\n"
      ],
      "metadata": {
        "id": "8DmgVLScgceb",
        "colab_type": "text"
      }
    },
    {
      "cell_type": "markdown",
      "source": [
        "## **Statistical analysis and visualization**\n",
        "### *(with pandas and matplotlib)*\n",
        "***\n",
        "Topics to be covered:\n",
        "1. Correlation, regression (only do two simple examples, and then point to cheat sheet with rest of potential tests + packages) - make sure to point out that had they not cleaned the data results would have been quite different\n",
        "2. Plotting (two simple examples, then show cheat sheet with all different possiblities)"
      ],
      "metadata": {
        "id": "eZy-WmCZeMNb",
        "colab_type": "text"
      }
    },
    {
      "cell_type": "markdown",
      "source": [
        "## **Where to find data**\n",
        "### *(using CU Libraries, Google datasets, US government agencies, and many more)*\n",
        "1. Types of data: tabular (survey, transaction, summary, etc.), geospatial, text\n",
        "2. List of potential sources for each of the above\n",
        "3. Tools to collect your own data (mTurk or qualtrics for survey data, scraping for text data)"
      ],
      "metadata": {
        "id": "dCvR5GlNlitr",
        "colab_type": "text"
      }
    },
    {
      "cell_type": "markdown",
      "source": [
        "## **Topics not covered today**\n",
        "***\n",
        "A list of all the topics that you can dive deeper into (asterisks are by the ones that are most important):\n",
        "- github*\n",
        "- statistics*\n",
        "- communication / translation*\n",
        "- visualization*\n",
        "- NLP\n",
        "- ML\n",
        "- Cloud computing + access\n",
        "- geospatial data\n",
        "- applications"
      ],
      "metadata": {
        "id": "aREDh9i6mXhT",
        "colab_type": "text"
      }
    },
    {
      "cell_type": "markdown",
      "source": [
        "# Appendix - Notes from email chain (reference)\n",
        "***\n",
        "Topics to be covered:\n",
        "- knowledge of data types\n",
        "- working knowledge of data frames, intro to data wrangling\n",
        "- 3-4 common dangers of using data (missing data, duplication, truncation, misleading names)\n",
        "- a few simple commands to summarize data\n",
        "\n",
        "Topics to be presented only:\n",
        "- know a few basic terms of what you can do (regressions, etc.), so you know what to ask for when googling/ asking a library consultant\n",
        "- potential sources for data + sources in library to ask about data\n",
        "- dummy code for visualizing data (cheat sheet)"
      ],
      "metadata": {
        "id": "f5HhDh3vnMc4",
        "colab_type": "text"
      }
    }
  ],
  "metadata": {
    "colab": {
      "name": "Intro to Data in Python - IS v1.ipynb",
      "provenance": [],
      "collapsed_sections": []
    },
    "kernelspec": {
      "name": "python3",
      "language": "python",
      "display_name": "Python 3"
    },
    "kernel_info": {
      "name": "python3"
    },
    "language_info": {
      "name": "python",
      "version": "3.6.8",
      "mimetype": "text/x-python",
      "codemirror_mode": {
        "name": "ipython",
        "version": 3
      },
      "pygments_lexer": "ipython3",
      "nbconvert_exporter": "python",
      "file_extension": ".py"
    },
    "nteract": {
      "version": "0.15.0"
    }
  },
  "nbformat": 4,
  "nbformat_minor": 0
}