{
  "nbformat": 4,
  "nbformat_minor": 0,
  "metadata": {
    "colab": {
      "name": "Intro to Data in Python - IS v2.ipynb",
      "provenance": [],
      "collapsed_sections": [],
      "include_colab_link": true
    },
    "kernelspec": {
      "name": "python3",
      "language": "python",
      "display_name": "Python 3"
    },
    "kernel_info": {
      "name": "python3"
    },
    "language_info": {
      "name": "python",
      "version": "3.6.8",
      "mimetype": "text/x-python",
      "codemirror_mode": {
        "name": "ipython",
        "version": 3
      },
      "pygments_lexer": "ipython3",
      "nbconvert_exporter": "python",
      "file_extension": ".py"
    },
    "nteract": {
      "version": "0.15.0"
    }
  },
  "cells": [
    {
      "cell_type": "markdown",
      "metadata": {
        "id": "view-in-github",
        "colab_type": "text"
      },
      "source": [
        "<a href=\"https://colab.research.google.com/github/IshaShah27/intro-to-data/blob/master/Intro_to_Data_in_Python_IS_v2.ipynb\" target=\"_parent\"><img src=\"https://colab.research.google.com/assets/colab-badge.svg\" alt=\"Open In Colab\"/></a>"
      ]
    },
    {
      "cell_type": "markdown",
      "metadata": {
        "id": "swftxqBHPEC_",
        "colab_type": "text"
      },
      "source": [
        "# **Intro to Data**\n",
        "### *(using Python)*\n",
        "*Presented by Columbia University Libraries*\n",
        "***\n",
        "\n",
        "Welcome to the Columbia University Library's Intro to Data using Python course! These are our objectives:\n",
        "\n",
        "* Understanding what it *means* to use data\n",
        "* How to think critically and work responsibly with imperfect data\n",
        "* Fundamentals of data wrangling using Pandas\n",
        "* Awareness of Python's statistical and visualization capabilities\n",
        "*   Awareness of available datasets and where to find them\n",
        "* An insatiable desire to learn more about using data!\n",
        "\n",
        "\n",
        "\n",
        "\n"
      ]
    },
    {
      "cell_type": "markdown",
      "metadata": {
        "id": "ID_fhtDzhgGU",
        "colab_type": "text"
      },
      "source": [
        "## **Principles of data analysis**\n",
        "***\n",
        "No matter the context in which you're using data, there will **always** be a few principles you must follow. At the end of the day, you *are* doing science - you are using empirical observations to test hypotheses (and occasionally, to predict the future based on these hypotheses). Therefore, it is important to follow the same principles that guide scientific inquiry. These are in use far beyond academia. Regardless of where you work, whether a tech firm, bank, non-profit, or research institution, your analytical work **must** be:\n",
        "1. Well-documented\n",
        "2. Conscientious in reducing bias (the same way we randomize trials and only collect the data we need to answer a specific question, we have to make sure our data are clean, examined for potential bias, and are suited to the question we want to answer)\n",
        "2. Reproducible (commenting and code sharing are crucial)\n",
        "3. Responsibly and clearly communicated (you've done all the work, and now it's important to get it out in the world! Communicating the results of data analyses can be very difficult, especially to folks who don't have a background in it. It is your responsibility to do the best you can in stating what your research can and can't answer, and to make sure that any communication about the data comes from the data - don't make unfounded leaps, or allow others to)\n",
        "\n",
        "Throughout this guide, you will see a subtitle for each section that shows you the *tool* we are using to perform each part of data analysis. This is to emphasize the greater importance of the *general concepts and principles* of data analysis that are constant across any language or context, rather than the tools used."
      ]
    },
    {
      "cell_type": "markdown",
      "metadata": {
        "id": "MB2Yn8LqTheu",
        "colab_type": "text"
      },
      "source": [
        "## **Getting started**\n",
        "### *(with Google Colab)*\n",
        "\n",
        "Topics to be covered:\n",
        "1. What is Python?\n",
        "2. Why does it matter?\n",
        "3. How can you use Python? (cover IDEs, notebooks, Terminal + mention why we are using Colab, and where to go to install an IDE - this can just be a link to Anaconda or some resource already out there that walks through setup)\n",
        "4. What are packages and why do we need them?\n",
        "5. Basic familiarity with Colab (code vs text blocks, shareability, where the computing power is coming from, and how to access files from it)\n",
        "6. Pitfalls of using colab - might not be as easy to customize (package-wise), requires internet, additional steps to access files - but emphasize that usually for presentability and shareability Colab may still be the best tool\n",
        "7. Why pandas? Pandas is an open-source library that provides high-performance, easy-to-use\n",
        "data structures and data analysis tools for the Python programming language.\n"
      ]
    },
    {
      "cell_type": "markdown",
      "metadata": {
        "id": "oLjqf2bkU-YM",
        "colab_type": "text"
      },
      "source": [
        "## **Data import and quality checking** \n",
        "### *(with Pandas)*\n",
        "***\n",
        "Topics to be covered, all demoed using NYC taxi dataset:\n",
        "\n",
        "1. Importing csv, txt, excel files\n",
        "2. Looking at (an extract) of the dataset (.head), talk through what students observe and would assume about the data, and the data type for different fields + characteristics of each type\n",
        "3. Data quality checking: beginning and ending dates, finding min and max values for each field, or number of unique values (try to make sure there's at least a few fakeouts - ie \"number of violations\" or something is a numeric field, but it only ranges from 1-5 and corresponds to categories rather than the actual number of violations)\n",
        "4. The most common ways in which data are imperfect (missing data, duplication, truncation, misleading names)\n",
        "5. Larger questions you should ask about your data (how was this collected? Is this helpful in answering the question I already have, or should I come up with new questions I can ask this particular data with confidence?)\n"
      ]
    },
    {
      "cell_type": "code",
      "metadata": {
        "id": "y9ry0bDNm6MP",
        "colab_type": "code",
        "colab": {}
      },
      "source": [
        "# Import packages\n",
        "import pandas as pd\n",
        "import matplotlib.pyplot as plt\n",
        "import statsmodels as sm"
      ],
      "execution_count": 0,
      "outputs": []
    },
    {
      "cell_type": "code",
      "metadata": {
        "id": "DxsrTWusy_HO",
        "colab_type": "code",
        "colab": {}
      },
      "source": [
        "# Import a package just so that we can see all outputs, not just last\n",
        "from IPython.core.interactiveshell import InteractiveShell\n",
        "InteractiveShell.ast_node_interactivity = \"all\""
      ],
      "execution_count": 0,
      "outputs": []
    },
    {
      "cell_type": "code",
      "metadata": {
        "id": "gDLaJoo2mzgS",
        "colab_type": "code",
        "outputId": "211dbcb9-0828-498d-d5f0-b9ba4f345f28",
        "colab": {
          "base_uri": "https://localhost:8080/",
          "height": 204
        }
      },
      "source": [
        "# Import file from github\n",
        "url = \"https://raw.githubusercontent.com/columbia-university-libraries-data-club/intro-to-data/master/taxi-data.csv\"\n",
        "taxi = pd.read_csv(url, index_col =  None, parse_dates = [\"pickup\", \"dropoff\"])\n",
        "taxi.head()"
      ],
      "execution_count": 2,
      "outputs": [
        {
          "output_type": "execute_result",
          "data": {
            "text/html": [
              "<div>\n",
              "<style scoped>\n",
              "    .dataframe tbody tr th:only-of-type {\n",
              "        vertical-align: middle;\n",
              "    }\n",
              "\n",
              "    .dataframe tbody tr th {\n",
              "        vertical-align: top;\n",
              "    }\n",
              "\n",
              "    .dataframe thead th {\n",
              "        text-align: right;\n",
              "    }\n",
              "</style>\n",
              "<table border=\"1\" class=\"dataframe\">\n",
              "  <thead>\n",
              "    <tr style=\"text-align: right;\">\n",
              "      <th></th>\n",
              "      <th>pickup</th>\n",
              "      <th>dropoff</th>\n",
              "      <th>passengers</th>\n",
              "      <th>distance</th>\n",
              "      <th>fare</th>\n",
              "      <th>tip</th>\n",
              "      <th>total</th>\n",
              "      <th>payment_type</th>\n",
              "      <th>payment</th>\n",
              "    </tr>\n",
              "  </thead>\n",
              "  <tbody>\n",
              "    <tr>\n",
              "      <th>0</th>\n",
              "      <td>2018-02-01 00:39:38</td>\n",
              "      <td>2018-02-01 00:39:41</td>\n",
              "      <td>1</td>\n",
              "      <td>0.00</td>\n",
              "      <td>20.0</td>\n",
              "      <td>3.00</td>\n",
              "      <td>23.00</td>\n",
              "      <td>1</td>\n",
              "      <td>Credit Card</td>\n",
              "    </tr>\n",
              "    <tr>\n",
              "      <th>1</th>\n",
              "      <td>2018-02-01 00:58:28</td>\n",
              "      <td>2018-02-01 01:05:35</td>\n",
              "      <td>5</td>\n",
              "      <td>1.60</td>\n",
              "      <td>7.5</td>\n",
              "      <td>0.88</td>\n",
              "      <td>9.68</td>\n",
              "      <td>1</td>\n",
              "      <td>Credit Card</td>\n",
              "    </tr>\n",
              "    <tr>\n",
              "      <th>2</th>\n",
              "      <td>2018-02-01 00:56:05</td>\n",
              "      <td>2018-02-01 01:18:54</td>\n",
              "      <td>1</td>\n",
              "      <td>9.60</td>\n",
              "      <td>28.5</td>\n",
              "      <td>5.96</td>\n",
              "      <td>35.76</td>\n",
              "      <td>1</td>\n",
              "      <td>Credit Card</td>\n",
              "    </tr>\n",
              "    <tr>\n",
              "      <th>3</th>\n",
              "      <td>2018-02-01 00:12:40</td>\n",
              "      <td>2018-02-01 00:15:50</td>\n",
              "      <td>1</td>\n",
              "      <td>0.73</td>\n",
              "      <td>4.5</td>\n",
              "      <td>0.00</td>\n",
              "      <td>5.80</td>\n",
              "      <td>2</td>\n",
              "      <td>Cash</td>\n",
              "    </tr>\n",
              "    <tr>\n",
              "      <th>4</th>\n",
              "      <td>2018-02-01 00:45:18</td>\n",
              "      <td>2018-02-01 00:51:56</td>\n",
              "      <td>2</td>\n",
              "      <td>1.87</td>\n",
              "      <td>8.0</td>\n",
              "      <td>0.00</td>\n",
              "      <td>9.30</td>\n",
              "      <td>2</td>\n",
              "      <td>Cash</td>\n",
              "    </tr>\n",
              "  </tbody>\n",
              "</table>\n",
              "</div>"
            ],
            "text/plain": [
              "               pickup             dropoff  ...  payment_type      payment\n",
              "0 2018-02-01 00:39:38 2018-02-01 00:39:41  ...             1  Credit Card\n",
              "1 2018-02-01 00:58:28 2018-02-01 01:05:35  ...             1  Credit Card\n",
              "2 2018-02-01 00:56:05 2018-02-01 01:18:54  ...             1  Credit Card\n",
              "3 2018-02-01 00:12:40 2018-02-01 00:15:50  ...             2         Cash\n",
              "4 2018-02-01 00:45:18 2018-02-01 00:51:56  ...             2         Cash\n",
              "\n",
              "[5 rows x 9 columns]"
            ]
          },
          "metadata": {
            "tags": []
          },
          "execution_count": 2
        }
      ]
    },
    {
      "cell_type": "markdown",
      "metadata": {
        "id": "G-9QiacE1vP1",
        "colab_type": "text"
      },
      "source": [
        "We have our dataset loaded! Before we dive in, let's go over a few key data structures in python and pandas:"
      ]
    },
    {
      "cell_type": "code",
      "metadata": {
        "id": "aT1yP4nx14sV",
        "colab_type": "code",
        "colab": {}
      },
      "source": [
        "# Lists\n",
        "listex = [1, 2, 3, 4, \"python\", \"makes\", \"rory\", \"roar\"]\n",
        "listex[1]\n",
        "listex[0:5]\n",
        "\n",
        "# Iterable"
      ],
      "execution_count": 0,
      "outputs": []
    },
    {
      "cell_type": "code",
      "metadata": {
        "id": "KzAJwd9c14YM",
        "colab_type": "code",
        "colab": {}
      },
      "source": [
        "# Dictionaries\n",
        "dictex = {\"rory\" : \"the lion\", \"columbia\": \"the university\", \"founded\": 1754}\n",
        "dictex[\"founded\"]\n",
        "dictex[\"rory\"]\n",
        "\n",
        "# Iterable"
      ],
      "execution_count": 0,
      "outputs": []
    },
    {
      "cell_type": "code",
      "metadata": {
        "id": "x2zRbRN-132g",
        "colab_type": "code",
        "colab": {}
      },
      "source": [
        "# Pandas dataframe\n",
        "type(taxi)\n",
        "\n",
        "# Think excel"
      ],
      "execution_count": 0,
      "outputs": []
    },
    {
      "cell_type": "code",
      "metadata": {
        "id": "-FHXH800zUgY",
        "colab_type": "code",
        "colab": {}
      },
      "source": [
        "# Pandas series\n",
        "type(taxi[\"pickup\"])\n",
        "\n",
        "# Column"
      ],
      "execution_count": 0,
      "outputs": []
    },
    {
      "cell_type": "code",
      "metadata": {
        "id": "_zI4o4KapiSn",
        "colab_type": "code",
        "colab": {
          "base_uri": "https://localhost:8080/",
          "height": 187
        },
        "outputId": "9e9d9429-8718-4dd5-ddfa-785cf19389af"
      },
      "source": [
        "# What are the data types of our fields?\n",
        "taxi.dtypes"
      ],
      "execution_count": 7,
      "outputs": [
        {
          "output_type": "execute_result",
          "data": {
            "text/plain": [
              "pickup          datetime64[ns]\n",
              "dropoff         datetime64[ns]\n",
              "passengers               int64\n",
              "distance               float64\n",
              "fare                   float64\n",
              "tip                    float64\n",
              "total                  float64\n",
              "payment_type             int64\n",
              "payment                 object\n",
              "dtype: object"
            ]
          },
          "metadata": {
            "tags": []
          },
          "execution_count": 7
        }
      ]
    },
    {
      "cell_type": "code",
      "metadata": {
        "id": "_4uCYWd9pxrR",
        "colab_type": "code",
        "colab": {
          "base_uri": "https://localhost:8080/",
          "height": 654
        },
        "outputId": "8d551091-4945-4b3b-9298-043b638646a5"
      },
      "source": [
        "# Descriptions\n",
        "taxi.describe(include = \"all\")"
      ],
      "execution_count": 8,
      "outputs": [
        {
          "output_type": "execute_result",
          "data": {
            "text/html": [
              "<div>\n",
              "<style scoped>\n",
              "    .dataframe tbody tr th:only-of-type {\n",
              "        vertical-align: middle;\n",
              "    }\n",
              "\n",
              "    .dataframe tbody tr th {\n",
              "        vertical-align: top;\n",
              "    }\n",
              "\n",
              "    .dataframe thead th {\n",
              "        text-align: right;\n",
              "    }\n",
              "</style>\n",
              "<table border=\"1\" class=\"dataframe\">\n",
              "  <thead>\n",
              "    <tr style=\"text-align: right;\">\n",
              "      <th></th>\n",
              "      <th>pickup</th>\n",
              "      <th>dropoff</th>\n",
              "      <th>passengers</th>\n",
              "      <th>distance</th>\n",
              "      <th>fare</th>\n",
              "      <th>tip</th>\n",
              "      <th>total</th>\n",
              "      <th>payment_type</th>\n",
              "      <th>payment</th>\n",
              "    </tr>\n",
              "  </thead>\n",
              "  <tbody>\n",
              "    <tr>\n",
              "      <th>count</th>\n",
              "      <td>769940</td>\n",
              "      <td>769940</td>\n",
              "      <td>769940.000000</td>\n",
              "      <td>769940.000000</td>\n",
              "      <td>769940.000000</td>\n",
              "      <td>769940.000000</td>\n",
              "      <td>769940.000000</td>\n",
              "      <td>769940.000000</td>\n",
              "      <td>769940</td>\n",
              "    </tr>\n",
              "    <tr>\n",
              "      <th>unique</th>\n",
              "      <td>634690</td>\n",
              "      <td>633445</td>\n",
              "      <td>NaN</td>\n",
              "      <td>NaN</td>\n",
              "      <td>NaN</td>\n",
              "      <td>NaN</td>\n",
              "      <td>NaN</td>\n",
              "      <td>NaN</td>\n",
              "      <td>5</td>\n",
              "    </tr>\n",
              "    <tr>\n",
              "      <th>top</th>\n",
              "      <td>2018-02-03 15:15:19</td>\n",
              "      <td>2018-02-25 00:00:00</td>\n",
              "      <td>NaN</td>\n",
              "      <td>NaN</td>\n",
              "      <td>NaN</td>\n",
              "      <td>NaN</td>\n",
              "      <td>NaN</td>\n",
              "      <td>NaN</td>\n",
              "      <td>Credit Card</td>\n",
              "    </tr>\n",
              "    <tr>\n",
              "      <th>freq</th>\n",
              "      <td>16</td>\n",
              "      <td>46</td>\n",
              "      <td>NaN</td>\n",
              "      <td>NaN</td>\n",
              "      <td>NaN</td>\n",
              "      <td>NaN</td>\n",
              "      <td>NaN</td>\n",
              "      <td>NaN</td>\n",
              "      <td>420696</td>\n",
              "    </tr>\n",
              "    <tr>\n",
              "      <th>first</th>\n",
              "      <td>2008-12-31 20:31:59</td>\n",
              "      <td>2008-12-31 20:44:03</td>\n",
              "      <td>NaN</td>\n",
              "      <td>NaN</td>\n",
              "      <td>NaN</td>\n",
              "      <td>NaN</td>\n",
              "      <td>NaN</td>\n",
              "      <td>NaN</td>\n",
              "      <td>NaN</td>\n",
              "    </tr>\n",
              "    <tr>\n",
              "      <th>last</th>\n",
              "      <td>2081-06-24 17:40:37</td>\n",
              "      <td>2081-06-24 18:42:47</td>\n",
              "      <td>NaN</td>\n",
              "      <td>NaN</td>\n",
              "      <td>NaN</td>\n",
              "      <td>NaN</td>\n",
              "      <td>NaN</td>\n",
              "      <td>NaN</td>\n",
              "      <td>NaN</td>\n",
              "    </tr>\n",
              "    <tr>\n",
              "      <th>mean</th>\n",
              "      <td>NaN</td>\n",
              "      <td>NaN</td>\n",
              "      <td>1.356391</td>\n",
              "      <td>2.725387</td>\n",
              "      <td>11.882591</td>\n",
              "      <td>1.040139</td>\n",
              "      <td>14.156694</td>\n",
              "      <td>1.462002</td>\n",
              "      <td>NaN</td>\n",
              "    </tr>\n",
              "    <tr>\n",
              "      <th>std</th>\n",
              "      <td>NaN</td>\n",
              "      <td>NaN</td>\n",
              "      <td>1.033778</td>\n",
              "      <td>2.882936</td>\n",
              "      <td>9.745038</td>\n",
              "      <td>1.821846</td>\n",
              "      <td>10.707214</td>\n",
              "      <td>0.519115</td>\n",
              "      <td>NaN</td>\n",
              "    </tr>\n",
              "    <tr>\n",
              "      <th>min</th>\n",
              "      <td>NaN</td>\n",
              "      <td>NaN</td>\n",
              "      <td>0.000000</td>\n",
              "      <td>0.000000</td>\n",
              "      <td>-400.000000</td>\n",
              "      <td>-14.190000</td>\n",
              "      <td>-400.000000</td>\n",
              "      <td>1.000000</td>\n",
              "      <td>NaN</td>\n",
              "    </tr>\n",
              "    <tr>\n",
              "      <th>25%</th>\n",
              "      <td>NaN</td>\n",
              "      <td>NaN</td>\n",
              "      <td>1.000000</td>\n",
              "      <td>1.000000</td>\n",
              "      <td>6.000000</td>\n",
              "      <td>0.000000</td>\n",
              "      <td>7.800000</td>\n",
              "      <td>1.000000</td>\n",
              "      <td>NaN</td>\n",
              "    </tr>\n",
              "    <tr>\n",
              "      <th>50%</th>\n",
              "      <td>NaN</td>\n",
              "      <td>NaN</td>\n",
              "      <td>1.000000</td>\n",
              "      <td>1.750000</td>\n",
              "      <td>9.000000</td>\n",
              "      <td>0.000000</td>\n",
              "      <td>11.150000</td>\n",
              "      <td>1.000000</td>\n",
              "      <td>NaN</td>\n",
              "    </tr>\n",
              "    <tr>\n",
              "      <th>75%</th>\n",
              "      <td>NaN</td>\n",
              "      <td>NaN</td>\n",
              "      <td>1.000000</td>\n",
              "      <td>3.370000</td>\n",
              "      <td>14.500000</td>\n",
              "      <td>1.760000</td>\n",
              "      <td>17.000000</td>\n",
              "      <td>2.000000</td>\n",
              "      <td>NaN</td>\n",
              "    </tr>\n",
              "    <tr>\n",
              "      <th>max</th>\n",
              "      <td>NaN</td>\n",
              "      <td>NaN</td>\n",
              "      <td>9.000000</td>\n",
              "      <td>120.470000</td>\n",
              "      <td>2624.500000</td>\n",
              "      <td>104.000000</td>\n",
              "      <td>2626.300000</td>\n",
              "      <td>5.000000</td>\n",
              "      <td>NaN</td>\n",
              "    </tr>\n",
              "  </tbody>\n",
              "</table>\n",
              "</div>"
            ],
            "text/plain": [
              "                     pickup              dropoff  ...   payment_type      payment\n",
              "count                769940               769940  ...  769940.000000       769940\n",
              "unique               634690               633445  ...            NaN            5\n",
              "top     2018-02-03 15:15:19  2018-02-25 00:00:00  ...            NaN  Credit Card\n",
              "freq                     16                   46  ...            NaN       420696\n",
              "first   2008-12-31 20:31:59  2008-12-31 20:44:03  ...            NaN          NaN\n",
              "last    2081-06-24 17:40:37  2081-06-24 18:42:47  ...            NaN          NaN\n",
              "mean                    NaN                  NaN  ...       1.462002          NaN\n",
              "std                     NaN                  NaN  ...       0.519115          NaN\n",
              "min                     NaN                  NaN  ...       1.000000          NaN\n",
              "25%                     NaN                  NaN  ...       1.000000          NaN\n",
              "50%                     NaN                  NaN  ...       1.000000          NaN\n",
              "75%                     NaN                  NaN  ...       2.000000          NaN\n",
              "max                     NaN                  NaN  ...       5.000000          NaN\n",
              "\n",
              "[13 rows x 9 columns]"
            ]
          },
          "metadata": {
            "tags": []
          },
          "execution_count": 8
        }
      ]
    },
    {
      "cell_type": "markdown",
      "metadata": {
        "id": "AGCR74meuBx6",
        "colab_type": "text"
      },
      "source": [
        "**What are some observations you can make from the table above?**\n",
        "\n",
        "Let's go column by column:\n",
        "\n",
        "*Pick-up and drop-off dates and times:*\n",
        "* The earliest date in our dataset is 12/31/2008\n",
        "* The maximum date looks unrealistic (2081?)\n",
        "* There are nearly 770,000 rows in our dataset, but only about 630,000 unique pickup and dropoff values. Why? Why would there be fewer unique dropoff than pickup date values?\n",
        "\n",
        "*Moving onto passengers and distance:*\n",
        "* What does having zero passengers mean?\n",
        "* What does having zero distance mean?\n",
        "* Are these distance values intuitive?\n",
        "\n",
        "*Fares and payment:*\n",
        "* Why would there be a negative number for a fare or tip?\n",
        "* What does the column \"payment type\" mean here, and why is it numeric?\n",
        "* There was a $2,600 cab ride? Was that a mistake?\n",
        "\n",
        "Luckily, we can take a deeper dive into questions!\n",
        "\n",
        "Let's start with pick-up and drop-off times:\n",
        "\n",
        "\n",
        "\n"
      ]
    },
    {
      "cell_type": "code",
      "metadata": {
        "id": "78kTBEk9UxXR",
        "colab_type": "code",
        "colab": {
          "base_uri": "https://localhost:8080/",
          "height": 495
        },
        "outputId": "04018c3e-5f19-4595-9bdf-df5995f75ed2"
      },
      "source": [
        "# Start with a simple histogram\n",
        "taxi[\"pickup\"].plot(kind = \"hist\")"
      ],
      "execution_count": 12,
      "outputs": [
        {
          "output_type": "error",
          "ename": "TypeError",
          "evalue": "ignored",
          "traceback": [
            "\u001b[0;31m---------------------------------------------------------------------------\u001b[0m",
            "\u001b[0;31mTypeError\u001b[0m                                 Traceback (most recent call last)",
            "\u001b[0;32m<ipython-input-12-78463a0cbb6d>\u001b[0m in \u001b[0;36m<module>\u001b[0;34m()\u001b[0m\n\u001b[0;32m----> 1\u001b[0;31m \u001b[0mtaxi\u001b[0m\u001b[0;34m[\u001b[0m\u001b[0;34m\"pickup\"\u001b[0m\u001b[0;34m]\u001b[0m\u001b[0;34m.\u001b[0m\u001b[0mplot\u001b[0m\u001b[0;34m(\u001b[0m\u001b[0mkind\u001b[0m \u001b[0;34m=\u001b[0m \u001b[0;34m\"hist\"\u001b[0m\u001b[0;34m)\u001b[0m\u001b[0;34m\u001b[0m\u001b[0;34m\u001b[0m\u001b[0m\n\u001b[0m",
            "\u001b[0;32m/usr/local/lib/python3.6/dist-packages/pandas/plotting/_core.py\u001b[0m in \u001b[0;36m__call__\u001b[0;34m(self, *args, **kwargs)\u001b[0m\n\u001b[1;32m    792\u001b[0m                     \u001b[0mdata\u001b[0m\u001b[0;34m.\u001b[0m\u001b[0mcolumns\u001b[0m \u001b[0;34m=\u001b[0m \u001b[0mlabel_name\u001b[0m\u001b[0;34m\u001b[0m\u001b[0;34m\u001b[0m\u001b[0m\n\u001b[1;32m    793\u001b[0m \u001b[0;34m\u001b[0m\u001b[0m\n\u001b[0;32m--> 794\u001b[0;31m         \u001b[0;32mreturn\u001b[0m \u001b[0mplot_backend\u001b[0m\u001b[0;34m.\u001b[0m\u001b[0mplot\u001b[0m\u001b[0;34m(\u001b[0m\u001b[0mdata\u001b[0m\u001b[0;34m,\u001b[0m \u001b[0mkind\u001b[0m\u001b[0;34m=\u001b[0m\u001b[0mkind\u001b[0m\u001b[0;34m,\u001b[0m \u001b[0;34m**\u001b[0m\u001b[0mkwargs\u001b[0m\u001b[0;34m)\u001b[0m\u001b[0;34m\u001b[0m\u001b[0;34m\u001b[0m\u001b[0m\n\u001b[0m\u001b[1;32m    795\u001b[0m \u001b[0;34m\u001b[0m\u001b[0m\n\u001b[1;32m    796\u001b[0m     \u001b[0;32mdef\u001b[0m \u001b[0mline\u001b[0m\u001b[0;34m(\u001b[0m\u001b[0mself\u001b[0m\u001b[0;34m,\u001b[0m \u001b[0mx\u001b[0m\u001b[0;34m=\u001b[0m\u001b[0;32mNone\u001b[0m\u001b[0;34m,\u001b[0m \u001b[0my\u001b[0m\u001b[0;34m=\u001b[0m\u001b[0;32mNone\u001b[0m\u001b[0;34m,\u001b[0m \u001b[0;34m**\u001b[0m\u001b[0mkwargs\u001b[0m\u001b[0;34m)\u001b[0m\u001b[0;34m:\u001b[0m\u001b[0;34m\u001b[0m\u001b[0;34m\u001b[0m\u001b[0m\n",
            "\u001b[0;32m/usr/local/lib/python3.6/dist-packages/pandas/plotting/_matplotlib/__init__.py\u001b[0m in \u001b[0;36mplot\u001b[0;34m(data, kind, **kwargs)\u001b[0m\n\u001b[1;32m     60\u001b[0m             \u001b[0mkwargs\u001b[0m\u001b[0;34m[\u001b[0m\u001b[0;34m\"ax\"\u001b[0m\u001b[0;34m]\u001b[0m \u001b[0;34m=\u001b[0m \u001b[0mgetattr\u001b[0m\u001b[0;34m(\u001b[0m\u001b[0max\u001b[0m\u001b[0;34m,\u001b[0m \u001b[0;34m\"left_ax\"\u001b[0m\u001b[0;34m,\u001b[0m \u001b[0max\u001b[0m\u001b[0;34m)\u001b[0m\u001b[0;34m\u001b[0m\u001b[0;34m\u001b[0m\u001b[0m\n\u001b[1;32m     61\u001b[0m     \u001b[0mplot_obj\u001b[0m \u001b[0;34m=\u001b[0m \u001b[0mPLOT_CLASSES\u001b[0m\u001b[0;34m[\u001b[0m\u001b[0mkind\u001b[0m\u001b[0;34m]\u001b[0m\u001b[0;34m(\u001b[0m\u001b[0mdata\u001b[0m\u001b[0;34m,\u001b[0m \u001b[0;34m**\u001b[0m\u001b[0mkwargs\u001b[0m\u001b[0;34m)\u001b[0m\u001b[0;34m\u001b[0m\u001b[0;34m\u001b[0m\u001b[0m\n\u001b[0;32m---> 62\u001b[0;31m     \u001b[0mplot_obj\u001b[0m\u001b[0;34m.\u001b[0m\u001b[0mgenerate\u001b[0m\u001b[0;34m(\u001b[0m\u001b[0;34m)\u001b[0m\u001b[0;34m\u001b[0m\u001b[0;34m\u001b[0m\u001b[0m\n\u001b[0m\u001b[1;32m     63\u001b[0m     \u001b[0mplot_obj\u001b[0m\u001b[0;34m.\u001b[0m\u001b[0mdraw\u001b[0m\u001b[0;34m(\u001b[0m\u001b[0;34m)\u001b[0m\u001b[0;34m\u001b[0m\u001b[0;34m\u001b[0m\u001b[0m\n\u001b[1;32m     64\u001b[0m     \u001b[0;32mreturn\u001b[0m \u001b[0mplot_obj\u001b[0m\u001b[0;34m.\u001b[0m\u001b[0mresult\u001b[0m\u001b[0;34m\u001b[0m\u001b[0;34m\u001b[0m\u001b[0m\n",
            "\u001b[0;32m/usr/local/lib/python3.6/dist-packages/pandas/plotting/_matplotlib/core.py\u001b[0m in \u001b[0;36mgenerate\u001b[0;34m(self)\u001b[0m\n\u001b[1;32m    276\u001b[0m \u001b[0;34m\u001b[0m\u001b[0m\n\u001b[1;32m    277\u001b[0m     \u001b[0;32mdef\u001b[0m \u001b[0mgenerate\u001b[0m\u001b[0;34m(\u001b[0m\u001b[0mself\u001b[0m\u001b[0;34m)\u001b[0m\u001b[0;34m:\u001b[0m\u001b[0;34m\u001b[0m\u001b[0;34m\u001b[0m\u001b[0m\n\u001b[0;32m--> 278\u001b[0;31m         \u001b[0mself\u001b[0m\u001b[0;34m.\u001b[0m\u001b[0m_args_adjust\u001b[0m\u001b[0;34m(\u001b[0m\u001b[0;34m)\u001b[0m\u001b[0;34m\u001b[0m\u001b[0;34m\u001b[0m\u001b[0m\n\u001b[0m\u001b[1;32m    279\u001b[0m         \u001b[0mself\u001b[0m\u001b[0;34m.\u001b[0m\u001b[0m_compute_plot_data\u001b[0m\u001b[0;34m(\u001b[0m\u001b[0;34m)\u001b[0m\u001b[0;34m\u001b[0m\u001b[0;34m\u001b[0m\u001b[0m\n\u001b[1;32m    280\u001b[0m         \u001b[0mself\u001b[0m\u001b[0;34m.\u001b[0m\u001b[0m_setup_subplots\u001b[0m\u001b[0;34m(\u001b[0m\u001b[0;34m)\u001b[0m\u001b[0;34m\u001b[0m\u001b[0;34m\u001b[0m\u001b[0m\n",
            "\u001b[0;32m/usr/local/lib/python3.6/dist-packages/pandas/plotting/_matplotlib/hist.py\u001b[0m in \u001b[0;36m_args_adjust\u001b[0;34m(self)\u001b[0m\n\u001b[1;32m     35\u001b[0m                 \u001b[0mbins\u001b[0m\u001b[0;34m=\u001b[0m\u001b[0mself\u001b[0m\u001b[0;34m.\u001b[0m\u001b[0mbins\u001b[0m\u001b[0;34m,\u001b[0m\u001b[0;34m\u001b[0m\u001b[0;34m\u001b[0m\u001b[0m\n\u001b[1;32m     36\u001b[0m                 \u001b[0mrange\u001b[0m\u001b[0;34m=\u001b[0m\u001b[0mself\u001b[0m\u001b[0;34m.\u001b[0m\u001b[0mkwds\u001b[0m\u001b[0;34m.\u001b[0m\u001b[0mget\u001b[0m\u001b[0;34m(\u001b[0m\u001b[0;34m\"range\"\u001b[0m\u001b[0;34m,\u001b[0m \u001b[0;32mNone\u001b[0m\u001b[0;34m)\u001b[0m\u001b[0;34m,\u001b[0m\u001b[0;34m\u001b[0m\u001b[0;34m\u001b[0m\u001b[0m\n\u001b[0;32m---> 37\u001b[0;31m                 \u001b[0mweights\u001b[0m\u001b[0;34m=\u001b[0m\u001b[0mself\u001b[0m\u001b[0;34m.\u001b[0m\u001b[0mkwds\u001b[0m\u001b[0;34m.\u001b[0m\u001b[0mget\u001b[0m\u001b[0;34m(\u001b[0m\u001b[0;34m\"weights\"\u001b[0m\u001b[0;34m,\u001b[0m \u001b[0;32mNone\u001b[0m\u001b[0;34m)\u001b[0m\u001b[0;34m,\u001b[0m\u001b[0;34m\u001b[0m\u001b[0;34m\u001b[0m\u001b[0m\n\u001b[0m\u001b[1;32m     38\u001b[0m             )\n\u001b[1;32m     39\u001b[0m \u001b[0;34m\u001b[0m\u001b[0m\n",
            "\u001b[0;32m<__array_function__ internals>\u001b[0m in \u001b[0;36mhistogram\u001b[0;34m(*args, **kwargs)\u001b[0m\n",
            "\u001b[0;32m/usr/local/lib/python3.6/dist-packages/numpy/lib/histograms.py\u001b[0m in \u001b[0;36mhistogram\u001b[0;34m(a, bins, range, normed, weights, density)\u001b[0m\n\u001b[1;32m    793\u001b[0m     \u001b[0ma\u001b[0m\u001b[0;34m,\u001b[0m \u001b[0mweights\u001b[0m \u001b[0;34m=\u001b[0m \u001b[0m_ravel_and_check_weights\u001b[0m\u001b[0;34m(\u001b[0m\u001b[0ma\u001b[0m\u001b[0;34m,\u001b[0m \u001b[0mweights\u001b[0m\u001b[0;34m)\u001b[0m\u001b[0;34m\u001b[0m\u001b[0;34m\u001b[0m\u001b[0m\n\u001b[1;32m    794\u001b[0m \u001b[0;34m\u001b[0m\u001b[0m\n\u001b[0;32m--> 795\u001b[0;31m     \u001b[0mbin_edges\u001b[0m\u001b[0;34m,\u001b[0m \u001b[0muniform_bins\u001b[0m \u001b[0;34m=\u001b[0m \u001b[0m_get_bin_edges\u001b[0m\u001b[0;34m(\u001b[0m\u001b[0ma\u001b[0m\u001b[0;34m,\u001b[0m \u001b[0mbins\u001b[0m\u001b[0;34m,\u001b[0m \u001b[0mrange\u001b[0m\u001b[0;34m,\u001b[0m \u001b[0mweights\u001b[0m\u001b[0;34m)\u001b[0m\u001b[0;34m\u001b[0m\u001b[0;34m\u001b[0m\u001b[0m\n\u001b[0m\u001b[1;32m    796\u001b[0m \u001b[0;34m\u001b[0m\u001b[0m\n\u001b[1;32m    797\u001b[0m     \u001b[0;31m# Histogram is an integer or a float array depending on the weights.\u001b[0m\u001b[0;34m\u001b[0m\u001b[0;34m\u001b[0m\u001b[0;34m\u001b[0m\u001b[0m\n",
            "\u001b[0;32m/usr/local/lib/python3.6/dist-packages/numpy/lib/histograms.py\u001b[0m in \u001b[0;36m_get_bin_edges\u001b[0;34m(a, bins, range, weights)\u001b[0m\n\u001b[1;32m    442\u001b[0m         \u001b[0;31m# shapes. To avoid this causing problems, we pick a type now and stick\u001b[0m\u001b[0;34m\u001b[0m\u001b[0;34m\u001b[0m\u001b[0;34m\u001b[0m\u001b[0m\n\u001b[1;32m    443\u001b[0m         \u001b[0;31m# with it throughout.\u001b[0m\u001b[0;34m\u001b[0m\u001b[0;34m\u001b[0m\u001b[0;34m\u001b[0m\u001b[0m\n\u001b[0;32m--> 444\u001b[0;31m         \u001b[0mbin_type\u001b[0m \u001b[0;34m=\u001b[0m \u001b[0mnp\u001b[0m\u001b[0;34m.\u001b[0m\u001b[0mresult_type\u001b[0m\u001b[0;34m(\u001b[0m\u001b[0mfirst_edge\u001b[0m\u001b[0;34m,\u001b[0m \u001b[0mlast_edge\u001b[0m\u001b[0;34m,\u001b[0m \u001b[0ma\u001b[0m\u001b[0;34m)\u001b[0m\u001b[0;34m\u001b[0m\u001b[0;34m\u001b[0m\u001b[0m\n\u001b[0m\u001b[1;32m    445\u001b[0m         \u001b[0;32mif\u001b[0m \u001b[0mnp\u001b[0m\u001b[0;34m.\u001b[0m\u001b[0missubdtype\u001b[0m\u001b[0;34m(\u001b[0m\u001b[0mbin_type\u001b[0m\u001b[0;34m,\u001b[0m \u001b[0mnp\u001b[0m\u001b[0;34m.\u001b[0m\u001b[0minteger\u001b[0m\u001b[0;34m)\u001b[0m\u001b[0;34m:\u001b[0m\u001b[0;34m\u001b[0m\u001b[0;34m\u001b[0m\u001b[0m\n\u001b[1;32m    446\u001b[0m             \u001b[0mbin_type\u001b[0m \u001b[0;34m=\u001b[0m \u001b[0mnp\u001b[0m\u001b[0;34m.\u001b[0m\u001b[0mresult_type\u001b[0m\u001b[0;34m(\u001b[0m\u001b[0mbin_type\u001b[0m\u001b[0;34m,\u001b[0m \u001b[0mfloat\u001b[0m\u001b[0;34m)\u001b[0m\u001b[0;34m\u001b[0m\u001b[0;34m\u001b[0m\u001b[0m\n",
            "\u001b[0;32m<__array_function__ internals>\u001b[0m in \u001b[0;36mresult_type\u001b[0;34m(*args, **kwargs)\u001b[0m\n",
            "\u001b[0;31mTypeError\u001b[0m: invalid type promotion"
          ]
        }
      ]
    },
    {
      "cell_type": "markdown",
      "metadata": {
        "id": "hmx5nPccVe2i",
        "colab_type": "text"
      },
      "source": [
        "You'll notice that the above takes *forever*. Why is this?\n",
        "\n",
        "Because we're working on 770,000 rows of data! And this particular visualization is trying to account for every single point, which in this case is every single pickup date and time. This is one of the first hurdles you will likely experience when working with large and interesting datasets. So, what can you do to analyze the data more quickly?\n",
        "\n",
        "* Subset the data\n",
        "* Select a random sample\n",
        "* Use only the information needed \n",
        "\n",
        "But almost all of these require working with the data in a form other than the one it's in already. This brings us to:"
      ]
    },
    {
      "cell_type": "markdown",
      "metadata": {
        "id": "8DmgVLScgceb",
        "colab_type": "text"
      },
      "source": [
        "## **Data wrangling**\n",
        "### *(using Pandas)*\n",
        "***\n",
        "Topics to be covered:\n",
        "1. Math and string operations between columns \n",
        "2. Summarizing\n",
        "aside: + you can and should define your own functions (we said that code should be reproducible - if others are using your code or looking at it, functions are a good way to keep things in order)\n",
        "3. Reshaping\n",
        "4. Merging (will need to find another dataset to merge with)\n",
        "\n"
      ]
    },
    {
      "cell_type": "code",
      "metadata": {
        "id": "Mv6D3DGzYKGh",
        "colab_type": "code",
        "colab": {
          "base_uri": "https://localhost:8080/",
          "height": 284
        },
        "outputId": "b9d8dc1a-75a3-41b8-fa99-73cf9d0490b7"
      },
      "source": [
        "# Let's go ahead and first try to look at just the year of the pickup to see \n",
        "# what the deal with those 2081 dates is:\n",
        "\n",
        "taxi[\"pickup_year\"] = taxi[\"pickup\"].dt.year\n",
        "taxi.head()\n",
        "taxi[\"pickup_year\"].plot(kind = \"hist\")"
      ],
      "execution_count": 3,
      "outputs": [
        {
          "output_type": "execute_result",
          "data": {
            "text/plain": [
              "<matplotlib.axes._subplots.AxesSubplot at 0x7f86ed88b358>"
            ]
          },
          "metadata": {
            "tags": []
          },
          "execution_count": 3
        },
        {
          "output_type": "display_data",
          "data": {
            "image/png": "[encoded data removed]",
            "text/plain": [
              "<Figure size 432x288 with 1 Axes>"
            ]
          },
          "metadata": {
            "tags": []
          }
        }
      ]
    },
    {
      "cell_type": "code",
      "metadata": {
        "id": "3hIoXrL8aDqr",
        "colab_type": "code",
        "colab": {
          "base_uri": "https://localhost:8080/",
          "height": 282
        },
        "outputId": "67604a07-2dce-4d4b-9409-79c62c5f7e05"
      },
      "source": [
        "# So, we can see that most of these entries seem to be near the 2018 range, but that there must be \n",
        "# a few entries that are near 2080 that are causing the graph to stretch out.\n",
        "# So, we will try to look only at those rows where year > 2018 and see what we get.\n",
        "\n",
        "# Let's go ahead and first try to look at just the year of the pickup to see \n",
        "# what the deal with those 2081 dates is:\n",
        "\n",
        "taxi[taxi[\"pickup_year\"] > 2018][\"pickup_year\"].plot(kind = \"hist\")\n"
      ],
      "execution_count": 4,
      "outputs": [
        {
          "output_type": "execute_result",
          "data": {
            "text/plain": [
              "<matplotlib.axes._subplots.AxesSubplot at 0x7f86ede3ab70>"
            ]
          },
          "metadata": {
            "tags": []
          },
          "execution_count": 4
        },
        {
          "output_type": "display_data",
          "data": {
            "image/png": "[encoded data removed]",
            "text/plain": [
              "<Figure size 432x288 with 1 Axes>"
            ]
          },
          "metadata": {
            "tags": []
          }
        }
      ]
    },
    {
      "cell_type": "code",
      "metadata": {
        "id": "Khm0PIzva6ha",
        "colab_type": "code",
        "colab": {
          "base_uri": "https://localhost:8080/",
          "height": 174
        },
        "outputId": "4481e799-03e7-48bf-daee-f69393ccab41"
      },
      "source": [
        "# Interesting! It looks like there's just one row here that has a strange date.\n",
        "# Let's pull it up.\n",
        "\n",
        "taxi[taxi[\"pickup_year\"] > 2018].head()\n"
      ],
      "execution_count": 14,
      "outputs": [
        {
          "output_type": "execute_result",
          "data": {
            "text/html": [
              "<div>\n",
              "<style scoped>\n",
              "    .dataframe tbody tr th:only-of-type {\n",
              "        vertical-align: middle;\n",
              "    }\n",
              "\n",
              "    .dataframe tbody tr th {\n",
              "        vertical-align: top;\n",
              "    }\n",
              "\n",
              "    .dataframe thead th {\n",
              "        text-align: right;\n",
              "    }\n",
              "</style>\n",
              "<table border=\"1\" class=\"dataframe\">\n",
              "  <thead>\n",
              "    <tr style=\"text-align: right;\">\n",
              "      <th></th>\n",
              "      <th>pickup</th>\n",
              "      <th>dropoff</th>\n",
              "      <th>passengers</th>\n",
              "      <th>distance</th>\n",
              "      <th>fare</th>\n",
              "      <th>tip</th>\n",
              "      <th>total</th>\n",
              "      <th>payment_type</th>\n",
              "      <th>payment</th>\n",
              "      <th>pickup_year</th>\n",
              "    </tr>\n",
              "  </thead>\n",
              "  <tbody>\n",
              "    <tr>\n",
              "      <th>734222</th>\n",
              "      <td>2081-06-24 17:40:37</td>\n",
              "      <td>2081-06-24 18:42:47</td>\n",
              "      <td>1</td>\n",
              "      <td>16.95</td>\n",
              "      <td>52.0</td>\n",
              "      <td>0.0</td>\n",
              "      <td>55.96</td>\n",
              "      <td>1</td>\n",
              "      <td>Credit Card</td>\n",
              "      <td>2081</td>\n",
              "    </tr>\n",
              "  </tbody>\n",
              "</table>\n",
              "</div>"
            ],
            "text/plain": [
              "                    pickup             dropoff  ...      payment  pickup_year\n",
              "734222 2081-06-24 17:40:37 2081-06-24 18:42:47  ...  Credit Card         2081\n",
              "\n",
              "[1 rows x 10 columns]"
            ]
          },
          "metadata": {
            "tags": []
          },
          "execution_count": 14
        }
      ]
    },
    {
      "cell_type": "markdown",
      "metadata": {
        "id": "h9uAKyrMbPJd",
        "colab_type": "text"
      },
      "source": [
        "Other than the date, it doesn't look like there's anything wrong with this row. What do we do?\n",
        "* Fix the date, or\n",
        "* Drop the row?\n",
        "\n",
        "Since we have about 770,000 other rows, let's drop this one."
      ]
    },
    {
      "cell_type": "code",
      "metadata": {
        "id": "4aOF_MNhbZ_h",
        "colab_type": "code",
        "colab": {
          "base_uri": "https://localhost:8080/",
          "height": 714
        },
        "outputId": "97c828ca-f803-421f-9c99-1986b8df8b08"
      },
      "source": [
        "taxi = taxi[taxi[\"pickup_year\"] < 2019]\n",
        "taxi.describe(include = \"all\")"
      ],
      "execution_count": 16,
      "outputs": [
        {
          "output_type": "execute_result",
          "data": {
            "text/html": [
              "<div>\n",
              "<style scoped>\n",
              "    .dataframe tbody tr th:only-of-type {\n",
              "        vertical-align: middle;\n",
              "    }\n",
              "\n",
              "    .dataframe tbody tr th {\n",
              "        vertical-align: top;\n",
              "    }\n",
              "\n",
              "    .dataframe thead th {\n",
              "        text-align: right;\n",
              "    }\n",
              "</style>\n",
              "<table border=\"1\" class=\"dataframe\">\n",
              "  <thead>\n",
              "    <tr style=\"text-align: right;\">\n",
              "      <th></th>\n",
              "      <th>pickup</th>\n",
              "      <th>dropoff</th>\n",
              "      <th>passengers</th>\n",
              "      <th>distance</th>\n",
              "      <th>fare</th>\n",
              "      <th>tip</th>\n",
              "      <th>total</th>\n",
              "      <th>payment_type</th>\n",
              "      <th>payment</th>\n",
              "      <th>pickup_year</th>\n",
              "    </tr>\n",
              "  </thead>\n",
              "  <tbody>\n",
              "    <tr>\n",
              "      <th>count</th>\n",
              "      <td>769939</td>\n",
              "      <td>769939</td>\n",
              "      <td>769939.000000</td>\n",
              "      <td>769939.000000</td>\n",
              "      <td>769939.000000</td>\n",
              "      <td>769939.000000</td>\n",
              "      <td>769939.000000</td>\n",
              "      <td>769939.000000</td>\n",
              "      <td>769939</td>\n",
              "      <td>769939.000000</td>\n",
              "    </tr>\n",
              "    <tr>\n",
              "      <th>unique</th>\n",
              "      <td>634689</td>\n",
              "      <td>633444</td>\n",
              "      <td>NaN</td>\n",
              "      <td>NaN</td>\n",
              "      <td>NaN</td>\n",
              "      <td>NaN</td>\n",
              "      <td>NaN</td>\n",
              "      <td>NaN</td>\n",
              "      <td>5</td>\n",
              "      <td>NaN</td>\n",
              "    </tr>\n",
              "    <tr>\n",
              "      <th>top</th>\n",
              "      <td>2018-02-03 15:15:19</td>\n",
              "      <td>2018-02-25 00:00:00</td>\n",
              "      <td>NaN</td>\n",
              "      <td>NaN</td>\n",
              "      <td>NaN</td>\n",
              "      <td>NaN</td>\n",
              "      <td>NaN</td>\n",
              "      <td>NaN</td>\n",
              "      <td>Credit Card</td>\n",
              "      <td>NaN</td>\n",
              "    </tr>\n",
              "    <tr>\n",
              "      <th>freq</th>\n",
              "      <td>16</td>\n",
              "      <td>46</td>\n",
              "      <td>NaN</td>\n",
              "      <td>NaN</td>\n",
              "      <td>NaN</td>\n",
              "      <td>NaN</td>\n",
              "      <td>NaN</td>\n",
              "      <td>NaN</td>\n",
              "      <td>420695</td>\n",
              "      <td>NaN</td>\n",
              "    </tr>\n",
              "    <tr>\n",
              "      <th>first</th>\n",
              "      <td>2008-12-31 20:31:59</td>\n",
              "      <td>2008-12-31 20:44:03</td>\n",
              "      <td>NaN</td>\n",
              "      <td>NaN</td>\n",
              "      <td>NaN</td>\n",
              "      <td>NaN</td>\n",
              "      <td>NaN</td>\n",
              "      <td>NaN</td>\n",
              "      <td>NaN</td>\n",
              "      <td>NaN</td>\n",
              "    </tr>\n",
              "    <tr>\n",
              "      <th>last</th>\n",
              "      <td>2018-12-02 10:38:49</td>\n",
              "      <td>2018-12-02 10:38:50</td>\n",
              "      <td>NaN</td>\n",
              "      <td>NaN</td>\n",
              "      <td>NaN</td>\n",
              "      <td>NaN</td>\n",
              "      <td>NaN</td>\n",
              "      <td>NaN</td>\n",
              "      <td>NaN</td>\n",
              "      <td>NaN</td>\n",
              "    </tr>\n",
              "    <tr>\n",
              "      <th>mean</th>\n",
              "      <td>NaN</td>\n",
              "      <td>NaN</td>\n",
              "      <td>1.356392</td>\n",
              "      <td>2.725368</td>\n",
              "      <td>11.882539</td>\n",
              "      <td>1.040140</td>\n",
              "      <td>14.156639</td>\n",
              "      <td>1.462003</td>\n",
              "      <td>NaN</td>\n",
              "      <td>2017.998400</td>\n",
              "    </tr>\n",
              "    <tr>\n",
              "      <th>std</th>\n",
              "      <td>NaN</td>\n",
              "      <td>NaN</td>\n",
              "      <td>1.033779</td>\n",
              "      <td>2.882892</td>\n",
              "      <td>9.744937</td>\n",
              "      <td>1.821847</td>\n",
              "      <td>10.707115</td>\n",
              "      <td>0.519115</td>\n",
              "      <td>NaN</td>\n",
              "      <td>0.117511</td>\n",
              "    </tr>\n",
              "    <tr>\n",
              "      <th>min</th>\n",
              "      <td>NaN</td>\n",
              "      <td>NaN</td>\n",
              "      <td>0.000000</td>\n",
              "      <td>0.000000</td>\n",
              "      <td>-400.000000</td>\n",
              "      <td>-14.190000</td>\n",
              "      <td>-400.000000</td>\n",
              "      <td>1.000000</td>\n",
              "      <td>NaN</td>\n",
              "      <td>2008.000000</td>\n",
              "    </tr>\n",
              "    <tr>\n",
              "      <th>25%</th>\n",
              "      <td>NaN</td>\n",
              "      <td>NaN</td>\n",
              "      <td>1.000000</td>\n",
              "      <td>1.000000</td>\n",
              "      <td>6.000000</td>\n",
              "      <td>0.000000</td>\n",
              "      <td>7.800000</td>\n",
              "      <td>1.000000</td>\n",
              "      <td>NaN</td>\n",
              "      <td>2018.000000</td>\n",
              "    </tr>\n",
              "    <tr>\n",
              "      <th>50%</th>\n",
              "      <td>NaN</td>\n",
              "      <td>NaN</td>\n",
              "      <td>1.000000</td>\n",
              "      <td>1.750000</td>\n",
              "      <td>9.000000</td>\n",
              "      <td>0.000000</td>\n",
              "      <td>11.150000</td>\n",
              "      <td>1.000000</td>\n",
              "      <td>NaN</td>\n",
              "      <td>2018.000000</td>\n",
              "    </tr>\n",
              "    <tr>\n",
              "      <th>75%</th>\n",
              "      <td>NaN</td>\n",
              "      <td>NaN</td>\n",
              "      <td>1.000000</td>\n",
              "      <td>3.370000</td>\n",
              "      <td>14.500000</td>\n",
              "      <td>1.760000</td>\n",
              "      <td>17.000000</td>\n",
              "      <td>2.000000</td>\n",
              "      <td>NaN</td>\n",
              "      <td>2018.000000</td>\n",
              "    </tr>\n",
              "    <tr>\n",
              "      <th>max</th>\n",
              "      <td>NaN</td>\n",
              "      <td>NaN</td>\n",
              "      <td>9.000000</td>\n",
              "      <td>120.470000</td>\n",
              "      <td>2624.500000</td>\n",
              "      <td>104.000000</td>\n",
              "      <td>2626.300000</td>\n",
              "      <td>5.000000</td>\n",
              "      <td>NaN</td>\n",
              "      <td>2018.000000</td>\n",
              "    </tr>\n",
              "  </tbody>\n",
              "</table>\n",
              "</div>"
            ],
            "text/plain": [
              "                     pickup              dropoff  ...      payment    pickup_year\n",
              "count                769939               769939  ...       769939  769939.000000\n",
              "unique               634689               633444  ...            5            NaN\n",
              "top     2018-02-03 15:15:19  2018-02-25 00:00:00  ...  Credit Card            NaN\n",
              "freq                     16                   46  ...       420695            NaN\n",
              "first   2008-12-31 20:31:59  2008-12-31 20:44:03  ...          NaN            NaN\n",
              "last    2018-12-02 10:38:49  2018-12-02 10:38:50  ...          NaN            NaN\n",
              "mean                    NaN                  NaN  ...          NaN    2017.998400\n",
              "std                     NaN                  NaN  ...          NaN       0.117511\n",
              "min                     NaN                  NaN  ...          NaN    2008.000000\n",
              "25%                     NaN                  NaN  ...          NaN    2018.000000\n",
              "50%                     NaN                  NaN  ...          NaN    2018.000000\n",
              "75%                     NaN                  NaN  ...          NaN    2018.000000\n",
              "max                     NaN                  NaN  ...          NaN    2018.000000\n",
              "\n",
              "[13 rows x 10 columns]"
            ]
          },
          "metadata": {
            "tags": []
          },
          "execution_count": 16
        }
      ]
    },
    {
      "cell_type": "code",
      "metadata": {
        "id": "BEv3_GvmbvcG",
        "colab_type": "code",
        "colab": {
          "base_uri": "https://localhost:8080/",
          "height": 284
        },
        "outputId": "96aeb3db-e9fb-4063-c9c8-468f26723b89"
      },
      "source": [
        "taxi[\"pickup_year\"].plot(kind = \"hist\")"
      ],
      "execution_count": 17,
      "outputs": [
        {
          "output_type": "execute_result",
          "data": {
            "text/plain": [
              "<matplotlib.axes._subplots.AxesSubplot at 0x7f31801db588>"
            ]
          },
          "metadata": {
            "tags": []
          },
          "execution_count": 17
        },
        {
          "output_type": "display_data",
          "data": {
            "image/png": "[encoded data removed]",
            "text/plain": [
              "<Figure size 432x288 with 1 Axes>"
            ]
          },
          "metadata": {
            "tags": []
          }
        }
      ]
    },
    {
      "cell_type": "markdown",
      "metadata": {
        "id": "cTN0iXKob5OX",
        "colab_type": "text"
      },
      "source": [
        "Wait a minute, it looks like the minimum year is 2008, but that the majority of trips are in 2018. What's going on here?"
      ]
    },
    {
      "cell_type": "code",
      "metadata": {
        "id": "V92OyM3dcA8x",
        "colab_type": "code",
        "colab": {
          "base_uri": "https://localhost:8080/",
          "height": 434
        },
        "outputId": "b1e4bc2c-ad34-49a6-d61d-0c6c23f1f229"
      },
      "source": [
        "taxi[taxi[\"pickup_year\"] < 2018].head()"
      ],
      "execution_count": 20,
      "outputs": [
        {
          "output_type": "execute_result",
          "data": {
            "text/html": [
              "<div>\n",
              "<style scoped>\n",
              "    .dataframe tbody tr th:only-of-type {\n",
              "        vertical-align: middle;\n",
              "    }\n",
              "\n",
              "    .dataframe tbody tr th {\n",
              "        vertical-align: top;\n",
              "    }\n",
              "\n",
              "    .dataframe thead th {\n",
              "        text-align: right;\n",
              "    }\n",
              "</style>\n",
              "<table border=\"1\" class=\"dataframe\">\n",
              "  <thead>\n",
              "    <tr style=\"text-align: right;\">\n",
              "      <th></th>\n",
              "      <th>pickup</th>\n",
              "      <th>dropoff</th>\n",
              "      <th>passengers</th>\n",
              "      <th>distance</th>\n",
              "      <th>fare</th>\n",
              "      <th>tip</th>\n",
              "      <th>total</th>\n",
              "      <th>payment_type</th>\n",
              "      <th>payment</th>\n",
              "      <th>pickup_year</th>\n",
              "    </tr>\n",
              "  </thead>\n",
              "  <tbody>\n",
              "    <tr>\n",
              "      <th>176917</th>\n",
              "      <td>2009-01-01 10:30:58</td>\n",
              "      <td>2009-01-01 11:27:08</td>\n",
              "      <td>1</td>\n",
              "      <td>31.73</td>\n",
              "      <td>84.5</td>\n",
              "      <td>0.00</td>\n",
              "      <td>87.46</td>\n",
              "      <td>1</td>\n",
              "      <td>Credit Card</td>\n",
              "      <td>2009</td>\n",
              "    </tr>\n",
              "    <tr>\n",
              "      <th>183630</th>\n",
              "      <td>2009-01-01 00:02:57</td>\n",
              "      <td>2009-01-01 15:29:58</td>\n",
              "      <td>1</td>\n",
              "      <td>4.36</td>\n",
              "      <td>15.5</td>\n",
              "      <td>2.44</td>\n",
              "      <td>20.69</td>\n",
              "      <td>1</td>\n",
              "      <td>Credit Card</td>\n",
              "      <td>2009</td>\n",
              "    </tr>\n",
              "    <tr>\n",
              "      <th>205807</th>\n",
              "      <td>2010-09-23 01:01:27</td>\n",
              "      <td>2010-09-23 12:47:19</td>\n",
              "      <td>1</td>\n",
              "      <td>3.90</td>\n",
              "      <td>18.0</td>\n",
              "      <td>0.00</td>\n",
              "      <td>18.80</td>\n",
              "      <td>2</td>\n",
              "      <td>Cash</td>\n",
              "      <td>2010</td>\n",
              "    </tr>\n",
              "    <tr>\n",
              "      <th>228185</th>\n",
              "      <td>2010-09-23 00:56:57</td>\n",
              "      <td>2010-09-23 01:03:03</td>\n",
              "      <td>1</td>\n",
              "      <td>0.72</td>\n",
              "      <td>4.5</td>\n",
              "      <td>0.00</td>\n",
              "      <td>5.30</td>\n",
              "      <td>2</td>\n",
              "      <td>Cash</td>\n",
              "      <td>2010</td>\n",
              "    </tr>\n",
              "    <tr>\n",
              "      <th>271674</th>\n",
              "      <td>2010-09-23 01:28:02</td>\n",
              "      <td>2010-09-23 01:36:15</td>\n",
              "      <td>1</td>\n",
              "      <td>1.03</td>\n",
              "      <td>7.0</td>\n",
              "      <td>0.00</td>\n",
              "      <td>7.80</td>\n",
              "      <td>2</td>\n",
              "      <td>Cash</td>\n",
              "      <td>2010</td>\n",
              "    </tr>\n",
              "  </tbody>\n",
              "</table>\n",
              "</div>"
            ],
            "text/plain": [
              "                    pickup             dropoff  ...      payment  pickup_year\n",
              "176917 2009-01-01 10:30:58 2009-01-01 11:27:08  ...  Credit Card         2009\n",
              "183630 2009-01-01 00:02:57 2009-01-01 15:29:58  ...  Credit Card         2009\n",
              "205807 2010-09-23 01:01:27 2010-09-23 12:47:19  ...         Cash         2010\n",
              "228185 2010-09-23 00:56:57 2010-09-23 01:03:03  ...         Cash         2010\n",
              "271674 2010-09-23 01:28:02 2010-09-23 01:36:15  ...         Cash         2010\n",
              "\n",
              "[5 rows x 10 columns]"
            ]
          },
          "metadata": {
            "tags": []
          },
          "execution_count": 20
        }
      ]
    },
    {
      "cell_type": "markdown",
      "metadata": {
        "id": "VImP6fFxcOvq",
        "colab_type": "text"
      },
      "source": [
        "Okay...there are a lot of these, compared to just one entry from 2081. However, this is not something we could have figured out by the histogram, and we don't know how many such rows there are. How can we get a sense of how many entries are from before 2018?\n",
        "* Make a plot (tried above) \n",
        "* List the rows (tried above)\n",
        "* Count!"
      ]
    },
    {
      "cell_type": "code",
      "metadata": {
        "id": "EM-cRZo7cr_5",
        "colab_type": "code",
        "colab": {
          "base_uri": "https://localhost:8080/",
          "height": 204
        },
        "outputId": "b4755628-8e9c-48b8-d1b3-5fa19a17b9df"
      },
      "source": [
        "# Count rows where year < 2018\n",
        "taxi[taxi[\"pickup_year\"] < 2018].count()"
      ],
      "execution_count": 22,
      "outputs": [
        {
          "output_type": "execute_result",
          "data": {
            "text/plain": [
              "pickup          144\n",
              "dropoff         144\n",
              "passengers      144\n",
              "distance        144\n",
              "fare            144\n",
              "tip             144\n",
              "total           144\n",
              "payment_type    144\n",
              "payment         144\n",
              "pickup_year     144\n",
              "dtype: int64"
            ]
          },
          "metadata": {
            "tags": []
          },
          "execution_count": 22
        }
      ]
    },
    {
      "cell_type": "markdown",
      "metadata": {
        "id": "TD-RAhpdc6RI",
        "colab_type": "text"
      },
      "source": [
        "Whoa, there are 144 such rows! How do we proceed?\n",
        "* We can drop them\n",
        "* We can investigate them further to see if there's something in common with them\n",
        "* We can change the year and assume 2018\n",
        "\n",
        "Let's investigate!"
      ]
    },
    {
      "cell_type": "code",
      "metadata": {
        "id": "Qv0FYHzXoC6a",
        "colab_type": "code",
        "colab": {
          "base_uri": "https://localhost:8080/",
          "height": 322
        },
        "outputId": "0527b34e-07aa-40fa-d1c6-8fd6a3b00e24"
      },
      "source": [
        "# What are the summary stats of these rows and do they differ from the other data?\n",
        "taxi[\"pickup_year\"].unique() \n",
        "\n",
        "\n",
        "taxi[taxi[\"pickup_year\"] < 2018][\"pickup_year\"].plot(kind = \"hist\")"
      ],
      "execution_count": 28,
      "outputs": [
        {
          "output_type": "execute_result",
          "data": {
            "text/plain": [
              "array([2018, 2009, 2010, 2008])"
            ]
          },
          "metadata": {
            "tags": []
          },
          "execution_count": 28
        },
        {
          "output_type": "execute_result",
          "data": {
            "text/plain": [
              "<matplotlib.axes._subplots.AxesSubplot at 0x7f317ff0cd30>"
            ]
          },
          "metadata": {
            "tags": []
          },
          "execution_count": 28
        },
        {
          "output_type": "display_data",
          "data": {
            "image/png": "[encoded data removed]",
            "text/plain": [
              "<Figure size 432x288 with 1 Axes>"
            ]
          },
          "metadata": {
            "tags": []
          }
        }
      ]
    },
    {
      "cell_type": "code",
      "metadata": {
        "id": "LY5neMuGoySX",
        "colab_type": "code",
        "colab": {
          "base_uri": "https://localhost:8080/",
          "height": 554
        },
        "outputId": "7ded7bb4-5ddc-4db4-be64-def3a024d920"
      },
      "source": [
        "# Describe these early-year rows\n",
        "taxi[taxi[\"pickup_year\"] < 2018].describe(include = \"all\")"
      ],
      "execution_count": 5,
      "outputs": [
        {
          "output_type": "execute_result",
          "data": {
            "text/html": [
              "<div>\n",
              "<style scoped>\n",
              "    .dataframe tbody tr th:only-of-type {\n",
              "        vertical-align: middle;\n",
              "    }\n",
              "\n",
              "    .dataframe tbody tr th {\n",
              "        vertical-align: top;\n",
              "    }\n",
              "\n",
              "    .dataframe thead th {\n",
              "        text-align: right;\n",
              "    }\n",
              "</style>\n",
              "<table border=\"1\" class=\"dataframe\">\n",
              "  <thead>\n",
              "    <tr style=\"text-align: right;\">\n",
              "      <th></th>\n",
              "      <th>pickup</th>\n",
              "      <th>dropoff</th>\n",
              "      <th>passengers</th>\n",
              "      <th>distance</th>\n",
              "      <th>fare</th>\n",
              "      <th>tip</th>\n",
              "      <th>total</th>\n",
              "      <th>payment_type</th>\n",
              "      <th>payment</th>\n",
              "      <th>pickup_year</th>\n",
              "    </tr>\n",
              "  </thead>\n",
              "  <tbody>\n",
              "    <tr>\n",
              "      <th>count</th>\n",
              "      <td>144</td>\n",
              "      <td>144</td>\n",
              "      <td>144.000000</td>\n",
              "      <td>144.000000</td>\n",
              "      <td>144.000000</td>\n",
              "      <td>144.000000</td>\n",
              "      <td>144.000000</td>\n",
              "      <td>144.000000</td>\n",
              "      <td>144</td>\n",
              "      <td>144.000000</td>\n",
              "    </tr>\n",
              "    <tr>\n",
              "      <th>unique</th>\n",
              "      <td>142</td>\n",
              "      <td>143</td>\n",
              "      <td>NaN</td>\n",
              "      <td>NaN</td>\n",
              "      <td>NaN</td>\n",
              "      <td>NaN</td>\n",
              "      <td>NaN</td>\n",
              "      <td>NaN</td>\n",
              "      <td>3</td>\n",
              "      <td>NaN</td>\n",
              "    </tr>\n",
              "    <tr>\n",
              "      <th>top</th>\n",
              "      <td>2010-09-23 01:11:49</td>\n",
              "      <td>2009-01-01 00:10:05</td>\n",
              "      <td>NaN</td>\n",
              "      <td>NaN</td>\n",
              "      <td>NaN</td>\n",
              "      <td>NaN</td>\n",
              "      <td>NaN</td>\n",
              "      <td>NaN</td>\n",
              "      <td>Cash</td>\n",
              "      <td>NaN</td>\n",
              "    </tr>\n",
              "    <tr>\n",
              "      <th>freq</th>\n",
              "      <td>2</td>\n",
              "      <td>2</td>\n",
              "      <td>NaN</td>\n",
              "      <td>NaN</td>\n",
              "      <td>NaN</td>\n",
              "      <td>NaN</td>\n",
              "      <td>NaN</td>\n",
              "      <td>NaN</td>\n",
              "      <td>114</td>\n",
              "      <td>NaN</td>\n",
              "    </tr>\n",
              "    <tr>\n",
              "      <th>first</th>\n",
              "      <td>2008-12-31 20:31:59</td>\n",
              "      <td>2008-12-31 20:44:03</td>\n",
              "      <td>NaN</td>\n",
              "      <td>NaN</td>\n",
              "      <td>NaN</td>\n",
              "      <td>NaN</td>\n",
              "      <td>NaN</td>\n",
              "      <td>NaN</td>\n",
              "      <td>NaN</td>\n",
              "      <td>NaN</td>\n",
              "    </tr>\n",
              "    <tr>\n",
              "      <th>last</th>\n",
              "      <td>2010-09-23 23:41:53</td>\n",
              "      <td>2010-09-24 00:07:05</td>\n",
              "      <td>NaN</td>\n",
              "      <td>NaN</td>\n",
              "      <td>NaN</td>\n",
              "      <td>NaN</td>\n",
              "      <td>NaN</td>\n",
              "      <td>NaN</td>\n",
              "      <td>NaN</td>\n",
              "      <td>NaN</td>\n",
              "    </tr>\n",
              "    <tr>\n",
              "      <th>mean</th>\n",
              "      <td>NaN</td>\n",
              "      <td>NaN</td>\n",
              "      <td>1.305556</td>\n",
              "      <td>3.002014</td>\n",
              "      <td>12.493056</td>\n",
              "      <td>0.514861</td>\n",
              "      <td>14.499653</td>\n",
              "      <td>1.805556</td>\n",
              "      <td>NaN</td>\n",
              "      <td>2009.444444</td>\n",
              "    </tr>\n",
              "    <tr>\n",
              "      <th>std</th>\n",
              "      <td>NaN</td>\n",
              "      <td>NaN</td>\n",
              "      <td>0.804513</td>\n",
              "      <td>3.915271</td>\n",
              "      <td>10.883038</td>\n",
              "      <td>1.617231</td>\n",
              "      <td>11.753528</td>\n",
              "      <td>0.414388</td>\n",
              "      <td>NaN</td>\n",
              "      <td>0.808848</td>\n",
              "    </tr>\n",
              "    <tr>\n",
              "      <th>min</th>\n",
              "      <td>NaN</td>\n",
              "      <td>NaN</td>\n",
              "      <td>1.000000</td>\n",
              "      <td>0.010000</td>\n",
              "      <td>-4.500000</td>\n",
              "      <td>0.000000</td>\n",
              "      <td>-6.300000</td>\n",
              "      <td>1.000000</td>\n",
              "      <td>NaN</td>\n",
              "      <td>2008.000000</td>\n",
              "    </tr>\n",
              "    <tr>\n",
              "      <th>25%</th>\n",
              "      <td>NaN</td>\n",
              "      <td>NaN</td>\n",
              "      <td>1.000000</td>\n",
              "      <td>1.002500</td>\n",
              "      <td>6.375000</td>\n",
              "      <td>0.000000</td>\n",
              "      <td>7.800000</td>\n",
              "      <td>2.000000</td>\n",
              "      <td>NaN</td>\n",
              "      <td>2009.000000</td>\n",
              "    </tr>\n",
              "    <tr>\n",
              "      <th>50%</th>\n",
              "      <td>NaN</td>\n",
              "      <td>NaN</td>\n",
              "      <td>1.000000</td>\n",
              "      <td>1.715000</td>\n",
              "      <td>9.000000</td>\n",
              "      <td>0.000000</td>\n",
              "      <td>10.680000</td>\n",
              "      <td>2.000000</td>\n",
              "      <td>NaN</td>\n",
              "      <td>2010.000000</td>\n",
              "    </tr>\n",
              "    <tr>\n",
              "      <th>75%</th>\n",
              "      <td>NaN</td>\n",
              "      <td>NaN</td>\n",
              "      <td>1.000000</td>\n",
              "      <td>3.877500</td>\n",
              "      <td>15.625000</td>\n",
              "      <td>0.000000</td>\n",
              "      <td>17.300000</td>\n",
              "      <td>2.000000</td>\n",
              "      <td>NaN</td>\n",
              "      <td>2010.000000</td>\n",
              "    </tr>\n",
              "    <tr>\n",
              "      <th>max</th>\n",
              "      <td>NaN</td>\n",
              "      <td>NaN</td>\n",
              "      <td>5.000000</td>\n",
              "      <td>31.730000</td>\n",
              "      <td>84.500000</td>\n",
              "      <td>10.980000</td>\n",
              "      <td>87.460000</td>\n",
              "      <td>3.000000</td>\n",
              "      <td>NaN</td>\n",
              "      <td>2010.000000</td>\n",
              "    </tr>\n",
              "  </tbody>\n",
              "</table>\n",
              "</div>"
            ],
            "text/plain": [
              "                     pickup              dropoff  ...  payment  pickup_year\n",
              "count                   144                  144  ...      144   144.000000\n",
              "unique                  142                  143  ...        3          NaN\n",
              "top     2010-09-23 01:11:49  2009-01-01 00:10:05  ...     Cash          NaN\n",
              "freq                      2                    2  ...      114          NaN\n",
              "first   2008-12-31 20:31:59  2008-12-31 20:44:03  ...      NaN          NaN\n",
              "last    2010-09-23 23:41:53  2010-09-24 00:07:05  ...      NaN          NaN\n",
              "mean                    NaN                  NaN  ...      NaN  2009.444444\n",
              "std                     NaN                  NaN  ...      NaN     0.808848\n",
              "min                     NaN                  NaN  ...      NaN  2008.000000\n",
              "25%                     NaN                  NaN  ...      NaN  2009.000000\n",
              "50%                     NaN                  NaN  ...      NaN  2010.000000\n",
              "75%                     NaN                  NaN  ...      NaN  2010.000000\n",
              "max                     NaN                  NaN  ...      NaN  2010.000000\n",
              "\n",
              "[13 rows x 10 columns]"
            ]
          },
          "metadata": {
            "tags": []
          },
          "execution_count": 5
        }
      ]
    },
    {
      "cell_type": "code",
      "metadata": {
        "id": "HgCRUCVTo4Wo",
        "colab_type": "code",
        "colab": {
          "base_uri": "https://localhost:8080/",
          "height": 594
        },
        "outputId": "22c293b6-3189-40af-9db5-5469ede85d4f"
      },
      "source": [
        "# Compare with rows from 2018\n",
        "taxi[taxi[\"pickup_year\"] >= 2018].describe(include = \"all\")"
      ],
      "execution_count": 6,
      "outputs": [
        {
          "output_type": "execute_result",
          "data": {
            "text/html": [
              "<div>\n",
              "<style scoped>\n",
              "    .dataframe tbody tr th:only-of-type {\n",
              "        vertical-align: middle;\n",
              "    }\n",
              "\n",
              "    .dataframe tbody tr th {\n",
              "        vertical-align: top;\n",
              "    }\n",
              "\n",
              "    .dataframe thead th {\n",
              "        text-align: right;\n",
              "    }\n",
              "</style>\n",
              "<table border=\"1\" class=\"dataframe\">\n",
              "  <thead>\n",
              "    <tr style=\"text-align: right;\">\n",
              "      <th></th>\n",
              "      <th>pickup</th>\n",
              "      <th>dropoff</th>\n",
              "      <th>passengers</th>\n",
              "      <th>distance</th>\n",
              "      <th>fare</th>\n",
              "      <th>tip</th>\n",
              "      <th>total</th>\n",
              "      <th>payment_type</th>\n",
              "      <th>payment</th>\n",
              "      <th>pickup_year</th>\n",
              "    </tr>\n",
              "  </thead>\n",
              "  <tbody>\n",
              "    <tr>\n",
              "      <th>count</th>\n",
              "      <td>769796</td>\n",
              "      <td>769796</td>\n",
              "      <td>769796.000000</td>\n",
              "      <td>769796.000000</td>\n",
              "      <td>769796.000000</td>\n",
              "      <td>769796.000000</td>\n",
              "      <td>769796.000000</td>\n",
              "      <td>769796.000000</td>\n",
              "      <td>769796</td>\n",
              "      <td>769796.000000</td>\n",
              "    </tr>\n",
              "    <tr>\n",
              "      <th>unique</th>\n",
              "      <td>634548</td>\n",
              "      <td>633302</td>\n",
              "      <td>NaN</td>\n",
              "      <td>NaN</td>\n",
              "      <td>NaN</td>\n",
              "      <td>NaN</td>\n",
              "      <td>NaN</td>\n",
              "      <td>NaN</td>\n",
              "      <td>5</td>\n",
              "      <td>NaN</td>\n",
              "    </tr>\n",
              "    <tr>\n",
              "      <th>top</th>\n",
              "      <td>2018-02-03 15:15:19</td>\n",
              "      <td>2018-02-26 00:00:00</td>\n",
              "      <td>NaN</td>\n",
              "      <td>NaN</td>\n",
              "      <td>NaN</td>\n",
              "      <td>NaN</td>\n",
              "      <td>NaN</td>\n",
              "      <td>NaN</td>\n",
              "      <td>Credit Card</td>\n",
              "      <td>NaN</td>\n",
              "    </tr>\n",
              "    <tr>\n",
              "      <th>freq</th>\n",
              "      <td>16</td>\n",
              "      <td>46</td>\n",
              "      <td>NaN</td>\n",
              "      <td>NaN</td>\n",
              "      <td>NaN</td>\n",
              "      <td>NaN</td>\n",
              "      <td>NaN</td>\n",
              "      <td>NaN</td>\n",
              "      <td>420667</td>\n",
              "      <td>NaN</td>\n",
              "    </tr>\n",
              "    <tr>\n",
              "      <th>first</th>\n",
              "      <td>2018-01-31 16:45:38</td>\n",
              "      <td>2018-01-31 17:00:59</td>\n",
              "      <td>NaN</td>\n",
              "      <td>NaN</td>\n",
              "      <td>NaN</td>\n",
              "      <td>NaN</td>\n",
              "      <td>NaN</td>\n",
              "      <td>NaN</td>\n",
              "      <td>NaN</td>\n",
              "      <td>NaN</td>\n",
              "    </tr>\n",
              "    <tr>\n",
              "      <th>last</th>\n",
              "      <td>2081-06-24 17:40:37</td>\n",
              "      <td>2081-06-24 18:42:47</td>\n",
              "      <td>NaN</td>\n",
              "      <td>NaN</td>\n",
              "      <td>NaN</td>\n",
              "      <td>NaN</td>\n",
              "      <td>NaN</td>\n",
              "      <td>NaN</td>\n",
              "      <td>NaN</td>\n",
              "      <td>NaN</td>\n",
              "    </tr>\n",
              "    <tr>\n",
              "      <th>mean</th>\n",
              "      <td>NaN</td>\n",
              "      <td>NaN</td>\n",
              "      <td>1.356401</td>\n",
              "      <td>2.725335</td>\n",
              "      <td>11.882477</td>\n",
              "      <td>1.040237</td>\n",
              "      <td>14.156630</td>\n",
              "      <td>1.461938</td>\n",
              "      <td>NaN</td>\n",
              "      <td>2018.000082</td>\n",
              "    </tr>\n",
              "    <tr>\n",
              "      <th>std</th>\n",
              "      <td>NaN</td>\n",
              "      <td>NaN</td>\n",
              "      <td>1.033817</td>\n",
              "      <td>2.882709</td>\n",
              "      <td>9.744817</td>\n",
              "      <td>1.821869</td>\n",
              "      <td>10.707016</td>\n",
              "      <td>0.519111</td>\n",
              "      <td>NaN</td>\n",
              "      <td>0.071805</td>\n",
              "    </tr>\n",
              "    <tr>\n",
              "      <th>min</th>\n",
              "      <td>NaN</td>\n",
              "      <td>NaN</td>\n",
              "      <td>0.000000</td>\n",
              "      <td>0.000000</td>\n",
              "      <td>-400.000000</td>\n",
              "      <td>-14.190000</td>\n",
              "      <td>-400.000000</td>\n",
              "      <td>1.000000</td>\n",
              "      <td>NaN</td>\n",
              "      <td>2018.000000</td>\n",
              "    </tr>\n",
              "    <tr>\n",
              "      <th>25%</th>\n",
              "      <td>NaN</td>\n",
              "      <td>NaN</td>\n",
              "      <td>1.000000</td>\n",
              "      <td>1.000000</td>\n",
              "      <td>6.000000</td>\n",
              "      <td>0.000000</td>\n",
              "      <td>7.800000</td>\n",
              "      <td>1.000000</td>\n",
              "      <td>NaN</td>\n",
              "      <td>2018.000000</td>\n",
              "    </tr>\n",
              "    <tr>\n",
              "      <th>50%</th>\n",
              "      <td>NaN</td>\n",
              "      <td>NaN</td>\n",
              "      <td>1.000000</td>\n",
              "      <td>1.750000</td>\n",
              "      <td>9.000000</td>\n",
              "      <td>0.000000</td>\n",
              "      <td>11.150000</td>\n",
              "      <td>1.000000</td>\n",
              "      <td>NaN</td>\n",
              "      <td>2018.000000</td>\n",
              "    </tr>\n",
              "    <tr>\n",
              "      <th>75%</th>\n",
              "      <td>NaN</td>\n",
              "      <td>NaN</td>\n",
              "      <td>1.000000</td>\n",
              "      <td>3.370000</td>\n",
              "      <td>14.500000</td>\n",
              "      <td>1.760000</td>\n",
              "      <td>17.000000</td>\n",
              "      <td>2.000000</td>\n",
              "      <td>NaN</td>\n",
              "      <td>2018.000000</td>\n",
              "    </tr>\n",
              "    <tr>\n",
              "      <th>max</th>\n",
              "      <td>NaN</td>\n",
              "      <td>NaN</td>\n",
              "      <td>9.000000</td>\n",
              "      <td>120.470000</td>\n",
              "      <td>2624.500000</td>\n",
              "      <td>104.000000</td>\n",
              "      <td>2626.300000</td>\n",
              "      <td>5.000000</td>\n",
              "      <td>NaN</td>\n",
              "      <td>2081.000000</td>\n",
              "    </tr>\n",
              "  </tbody>\n",
              "</table>\n",
              "</div>"
            ],
            "text/plain": [
              "                     pickup              dropoff  ...      payment    pickup_year\n",
              "count                769796               769796  ...       769796  769796.000000\n",
              "unique               634548               633302  ...            5            NaN\n",
              "top     2018-02-03 15:15:19  2018-02-26 00:00:00  ...  Credit Card            NaN\n",
              "freq                     16                   46  ...       420667            NaN\n",
              "first   2018-01-31 16:45:38  2018-01-31 17:00:59  ...          NaN            NaN\n",
              "last    2081-06-24 17:40:37  2081-06-24 18:42:47  ...          NaN            NaN\n",
              "mean                    NaN                  NaN  ...          NaN    2018.000082\n",
              "std                     NaN                  NaN  ...          NaN       0.071805\n",
              "min                     NaN                  NaN  ...          NaN    2018.000000\n",
              "25%                     NaN                  NaN  ...          NaN    2018.000000\n",
              "50%                     NaN                  NaN  ...          NaN    2018.000000\n",
              "75%                     NaN                  NaN  ...          NaN    2018.000000\n",
              "max                     NaN                  NaN  ...          NaN    2081.000000\n",
              "\n",
              "[13 rows x 10 columns]"
            ]
          },
          "metadata": {
            "tags": []
          },
          "execution_count": 6
        }
      ]
    },
    {
      "cell_type": "code",
      "metadata": {
        "id": "SL-LJ_6jpHTF",
        "colab_type": "code",
        "colab": {}
      },
      "source": [
        "# From these basic summarizations (not testing for significance), \n",
        "# it looks like these rows aren't too different from the post-2018 rows - \n",
        "# so it's probably safe to go ahead and drop them.\n",
        "\n",
        "taxi = taxi[taxi[\"pickup_year\"] >= 2018]"
      ],
      "execution_count": 0,
      "outputs": []
    },
    {
      "cell_type": "markdown",
      "metadata": {
        "id": "5IcLnR8-qQ3J",
        "colab_type": "text"
      },
      "source": [
        "Now that we've got the general hang of cleaning data, let's go ahead and clean up the anomalies in passenger number, distance, fare, and payment."
      ]
    },
    {
      "cell_type": "code",
      "metadata": {
        "id": "-9cV-vobqNox",
        "colab_type": "code",
        "colab": {}
      },
      "source": [
        "# Cleaning for passengers, distance, fare, and payment"
      ],
      "execution_count": 0,
      "outputs": []
    },
    {
      "cell_type": "markdown",
      "metadata": {
        "id": "HaqyKzwNqa95",
        "colab_type": "text"
      },
      "source": [
        "Now for the fun part: let's ask questions!\n",
        "\n",
        "- Let's investigate the potential effects of increasing the number of people in a taxi. Does it affect how likely and how much someone is to tip? Does it relate to how far they travel?\n",
        "- I'm nosy, so I also want to know - how much do people generally tip?\n",
        "- Are there differences in volume of passengers during different times of day? \n",
        "- What about payment type - who is still using cash, and at what time of day? Are they groups?\n"
      ]
    },
    {
      "cell_type": "code",
      "metadata": {
        "id": "shfMSBV84zmw",
        "colab_type": "code",
        "colab": {}
      },
      "source": [
        "# Creating a function and applying it to a pandas series\n",
        "def pass_sort(row):\n",
        "   if row['passengers'] == 1:\n",
        "      return 'One'\n",
        "   if row['passengers'] > 1: # Moacir help - how do you get this to align\n",
        "      return 'Two to three'\n",
        "   if row['passengers'] > 3:\n",
        "      return 'Four or more'\n",
        "taxi[\"passenger_type\"] = taxi.apply(lambda row: pass_sort(row), axis = 1)\n",
        "\n",
        "# Use column manipulation to create new columns\n",
        "taxi[\"tip_pct\"] = taxi['tip'] / taxi['fare']\n",
        "taxi[\"pickup_time\"] = taxi[\"pickup\"].dt.time\n",
        "taxi.head()\n",
        "\n",
        "# Reshaping data\n",
        "taxi_pivot = taxi.pivot(columns = \"passenger_type\", values = [\"pickup_time\", \"tip_pct\"])\n",
        "\n"
      ],
      "execution_count": 0,
      "outputs": []
    },
    {
      "cell_type": "code",
      "metadata": {
        "id": "GjxaFul8rR0V",
        "colab_type": "code",
        "colab": {
          "base_uri": "https://localhost:8080/",
          "height": 414
        },
        "outputId": "dd4c0b92-db8f-46dc-9341-70fc1b1a4e54"
      },
      "source": [
        "taxi.head()"
      ],
      "execution_count": 9,
      "outputs": [
        {
          "output_type": "execute_result",
          "data": {
            "text/html": [
              "<div>\n",
              "<style scoped>\n",
              "    .dataframe tbody tr th:only-of-type {\n",
              "        vertical-align: middle;\n",
              "    }\n",
              "\n",
              "    .dataframe tbody tr th {\n",
              "        vertical-align: top;\n",
              "    }\n",
              "\n",
              "    .dataframe thead th {\n",
              "        text-align: right;\n",
              "    }\n",
              "</style>\n",
              "<table border=\"1\" class=\"dataframe\">\n",
              "  <thead>\n",
              "    <tr style=\"text-align: right;\">\n",
              "      <th></th>\n",
              "      <th>pickup</th>\n",
              "      <th>dropoff</th>\n",
              "      <th>passengers</th>\n",
              "      <th>distance</th>\n",
              "      <th>fare</th>\n",
              "      <th>tip</th>\n",
              "      <th>total</th>\n",
              "      <th>payment_type</th>\n",
              "      <th>payment</th>\n",
              "      <th>pickup_year</th>\n",
              "      <th>passenger_type</th>\n",
              "      <th>tip_pct</th>\n",
              "      <th>pickup_time</th>\n",
              "    </tr>\n",
              "  </thead>\n",
              "  <tbody>\n",
              "    <tr>\n",
              "      <th>0</th>\n",
              "      <td>2018-02-01 00:39:38</td>\n",
              "      <td>2018-02-01 00:39:41</td>\n",
              "      <td>1</td>\n",
              "      <td>0.00</td>\n",
              "      <td>20.0</td>\n",
              "      <td>3.00</td>\n",
              "      <td>23.00</td>\n",
              "      <td>1</td>\n",
              "      <td>Credit Card</td>\n",
              "      <td>2018</td>\n",
              "      <td>One</td>\n",
              "      <td>0.150000</td>\n",
              "      <td>00:39:38</td>\n",
              "    </tr>\n",
              "    <tr>\n",
              "      <th>1</th>\n",
              "      <td>2018-02-01 00:58:28</td>\n",
              "      <td>2018-02-01 01:05:35</td>\n",
              "      <td>5</td>\n",
              "      <td>1.60</td>\n",
              "      <td>7.5</td>\n",
              "      <td>0.88</td>\n",
              "      <td>9.68</td>\n",
              "      <td>1</td>\n",
              "      <td>Credit Card</td>\n",
              "      <td>2018</td>\n",
              "      <td>Two to three</td>\n",
              "      <td>0.117333</td>\n",
              "      <td>00:58:28</td>\n",
              "    </tr>\n",
              "    <tr>\n",
              "      <th>2</th>\n",
              "      <td>2018-02-01 00:56:05</td>\n",
              "      <td>2018-02-01 01:18:54</td>\n",
              "      <td>1</td>\n",
              "      <td>9.60</td>\n",
              "      <td>28.5</td>\n",
              "      <td>5.96</td>\n",
              "      <td>35.76</td>\n",
              "      <td>1</td>\n",
              "      <td>Credit Card</td>\n",
              "      <td>2018</td>\n",
              "      <td>One</td>\n",
              "      <td>0.209123</td>\n",
              "      <td>00:56:05</td>\n",
              "    </tr>\n",
              "    <tr>\n",
              "      <th>3</th>\n",
              "      <td>2018-02-01 00:12:40</td>\n",
              "      <td>2018-02-01 00:15:50</td>\n",
              "      <td>1</td>\n",
              "      <td>0.73</td>\n",
              "      <td>4.5</td>\n",
              "      <td>0.00</td>\n",
              "      <td>5.80</td>\n",
              "      <td>2</td>\n",
              "      <td>Cash</td>\n",
              "      <td>2018</td>\n",
              "      <td>One</td>\n",
              "      <td>0.000000</td>\n",
              "      <td>00:12:40</td>\n",
              "    </tr>\n",
              "    <tr>\n",
              "      <th>4</th>\n",
              "      <td>2018-02-01 00:45:18</td>\n",
              "      <td>2018-02-01 00:51:56</td>\n",
              "      <td>2</td>\n",
              "      <td>1.87</td>\n",
              "      <td>8.0</td>\n",
              "      <td>0.00</td>\n",
              "      <td>9.30</td>\n",
              "      <td>2</td>\n",
              "      <td>Cash</td>\n",
              "      <td>2018</td>\n",
              "      <td>Two to three</td>\n",
              "      <td>0.000000</td>\n",
              "      <td>00:45:18</td>\n",
              "    </tr>\n",
              "  </tbody>\n",
              "</table>\n",
              "</div>"
            ],
            "text/plain": [
              "               pickup             dropoff  ...   tip_pct  pickup_time\n",
              "0 2018-02-01 00:39:38 2018-02-01 00:39:41  ...  0.150000     00:39:38\n",
              "1 2018-02-01 00:58:28 2018-02-01 01:05:35  ...  0.117333     00:58:28\n",
              "2 2018-02-01 00:56:05 2018-02-01 01:18:54  ...  0.209123     00:56:05\n",
              "3 2018-02-01 00:12:40 2018-02-01 00:15:50  ...  0.000000     00:12:40\n",
              "4 2018-02-01 00:45:18 2018-02-01 00:51:56  ...  0.000000     00:45:18\n",
              "\n",
              "[5 rows x 13 columns]"
            ]
          },
          "metadata": {
            "tags": []
          },
          "execution_count": 9
        }
      ]
    },
    {
      "cell_type": "code",
      "metadata": {
        "id": "DrWEygA1qrNy",
        "colab_type": "code",
        "colab": {
          "base_uri": "https://localhost:8080/",
          "height": 235
        },
        "outputId": "c87fec20-b3a1-44a2-fa3d-18fa34589ad2"
      },
      "source": [
        "taxi_pivot.head()"
      ],
      "execution_count": 18,
      "outputs": [
        {
          "output_type": "execute_result",
          "data": {
            "text/html": [
              "<div>\n",
              "<style scoped>\n",
              "    .dataframe tbody tr th:only-of-type {\n",
              "        vertical-align: middle;\n",
              "    }\n",
              "\n",
              "    .dataframe tbody tr th {\n",
              "        vertical-align: top;\n",
              "    }\n",
              "\n",
              "    .dataframe thead tr th {\n",
              "        text-align: left;\n",
              "    }\n",
              "</style>\n",
              "<table border=\"1\" class=\"dataframe\">\n",
              "  <thead>\n",
              "    <tr>\n",
              "      <th></th>\n",
              "      <th colspan=\"3\" halign=\"left\">pickup_time</th>\n",
              "      <th colspan=\"3\" halign=\"left\">tip_pct</th>\n",
              "    </tr>\n",
              "    <tr>\n",
              "      <th>passenger_type</th>\n",
              "      <th>NaN</th>\n",
              "      <th>One</th>\n",
              "      <th>Two to three</th>\n",
              "      <th>NaN</th>\n",
              "      <th>One</th>\n",
              "      <th>Two to three</th>\n",
              "    </tr>\n",
              "  </thead>\n",
              "  <tbody>\n",
              "    <tr>\n",
              "      <th>0</th>\n",
              "      <td>NaN</td>\n",
              "      <td>00:39:38</td>\n",
              "      <td>NaN</td>\n",
              "      <td>NaN</td>\n",
              "      <td>0.15</td>\n",
              "      <td>NaN</td>\n",
              "    </tr>\n",
              "    <tr>\n",
              "      <th>1</th>\n",
              "      <td>NaN</td>\n",
              "      <td>NaN</td>\n",
              "      <td>00:58:28</td>\n",
              "      <td>NaN</td>\n",
              "      <td>NaN</td>\n",
              "      <td>0.117333</td>\n",
              "    </tr>\n",
              "    <tr>\n",
              "      <th>2</th>\n",
              "      <td>NaN</td>\n",
              "      <td>00:56:05</td>\n",
              "      <td>NaN</td>\n",
              "      <td>NaN</td>\n",
              "      <td>0.209123</td>\n",
              "      <td>NaN</td>\n",
              "    </tr>\n",
              "    <tr>\n",
              "      <th>3</th>\n",
              "      <td>NaN</td>\n",
              "      <td>00:12:40</td>\n",
              "      <td>NaN</td>\n",
              "      <td>NaN</td>\n",
              "      <td>0</td>\n",
              "      <td>NaN</td>\n",
              "    </tr>\n",
              "    <tr>\n",
              "      <th>4</th>\n",
              "      <td>NaN</td>\n",
              "      <td>NaN</td>\n",
              "      <td>00:45:18</td>\n",
              "      <td>NaN</td>\n",
              "      <td>NaN</td>\n",
              "      <td>0</td>\n",
              "    </tr>\n",
              "  </tbody>\n",
              "</table>\n",
              "</div>"
            ],
            "text/plain": [
              "               pickup_time            ...   tip_pct             \n",
              "passenger_type         NaN       One  ...       One Two to three\n",
              "0                      NaN  00:39:38  ...      0.15          NaN\n",
              "1                      NaN       NaN  ...       NaN     0.117333\n",
              "2                      NaN  00:56:05  ...  0.209123          NaN\n",
              "3                      NaN  00:12:40  ...         0          NaN\n",
              "4                      NaN       NaN  ...       NaN            0\n",
              "\n",
              "[5 rows x 6 columns]"
            ]
          },
          "metadata": {
            "tags": []
          },
          "execution_count": 18
        }
      ]
    },
    {
      "cell_type": "code",
      "metadata": {
        "id": "SG_sFuSm4Nud",
        "colab_type": "code",
        "colab": {
          "base_uri": "https://localhost:8080/",
          "height": 232
        },
        "outputId": "4fe34cf4-f088-473d-f558-181de4d22829"
      },
      "source": [
        "# Remove\n",
        "\n",
        "# taxi_pivot.columns\n",
        "\n",
        "# taxi_pivot.columns = [' '.join(col).strip() for col in taxi_pivot.columns.values]\n",
        "\n",
        "taxi_pivot = taxi_pivot.columns.to_flat_index()\n",
        "# taxi_pivot.columns = [x.strip() for x in taxi_pivot.columns]\n",
        "# taxi_pivot.columns\n",
        "# taxi_pivot.columns.apply(lambda x: x.strip())\n",
        "# [' '.join(col).strip() for col in df.columns.values]\n",
        "taxi_pivot.plot(kind = \"hist\")\n"
      ],
      "execution_count": 22,
      "outputs": [
        {
          "output_type": "error",
          "ename": "AttributeError",
          "evalue": "ignored",
          "traceback": [
            "\u001b[0;31m---------------------------------------------------------------------------\u001b[0m",
            "\u001b[0;31mAttributeError\u001b[0m                            Traceback (most recent call last)",
            "\u001b[0;32m<ipython-input-22-26c74a3c1ed0>\u001b[0m in \u001b[0;36m<module>\u001b[0;34m()\u001b[0m\n\u001b[1;32m      1\u001b[0m \u001b[0;34m\u001b[0m\u001b[0m\n\u001b[0;32m----> 2\u001b[0;31m \u001b[0mtaxi_pivot\u001b[0m \u001b[0;34m=\u001b[0m \u001b[0mtaxi_pivot\u001b[0m\u001b[0;34m.\u001b[0m\u001b[0mcolumns\u001b[0m\u001b[0;34m.\u001b[0m\u001b[0mto_flat_index\u001b[0m\u001b[0;34m(\u001b[0m\u001b[0;34m)\u001b[0m\u001b[0;34m\u001b[0m\u001b[0;34m\u001b[0m\u001b[0m\n\u001b[0m\u001b[1;32m      3\u001b[0m \u001b[0;31m# taxi_pivot.columns = [x.strip() for x in taxi_pivot.columns]\u001b[0m\u001b[0;34m\u001b[0m\u001b[0;34m\u001b[0m\u001b[0;34m\u001b[0m\u001b[0m\n\u001b[1;32m      4\u001b[0m \u001b[0;31m# taxi_pivot.columns\u001b[0m\u001b[0;34m\u001b[0m\u001b[0;34m\u001b[0m\u001b[0;34m\u001b[0m\u001b[0m\n\u001b[1;32m      5\u001b[0m \u001b[0;31m# taxi_pivot.columns.apply(lambda x: x.strip())\u001b[0m\u001b[0;34m\u001b[0m\u001b[0;34m\u001b[0m\u001b[0;34m\u001b[0m\u001b[0m\n",
            "\u001b[0;31mAttributeError\u001b[0m: 'Index' object has no attribute 'columns'"
          ]
        }
      ]
    },
    {
      "cell_type": "code",
      "metadata": {
        "id": "zU4XjMfx85U3",
        "colab_type": "code",
        "colab": {
          "base_uri": "https://localhost:8080/",
          "height": 1000
        },
        "outputId": "215a274b-baae-4fa2-cb64-8b74d90c5910"
      },
      "source": [
        "# Visualize tip percent and distance by passenger number\n",
        "# taxi.groupby(\"passengers\")[\"distance\"].plot(kind = \"bar\")\n",
        "plt.scatter(x = taxi[\"passengers\"], y = taxi[\"distance\"])\n",
        "plt.show()\n",
        "\n",
        "taxi.groupby(\"passengers\")[\"distance\"].median().plot(kind = \"bar\")\n",
        "plt.show()\n",
        "\n",
        "plt.scatter(x = taxi[\"passengers\"], y = taxi[\"tip_pct\"])\n",
        "plt.show()\n",
        "\n",
        "taxi.groupby(\"passengers\")[\"tip_pct\"].median().plot(kind = \"bar\")\n",
        "plt.show()"
      ],
      "execution_count": 32,
      "outputs": [
        {
          "output_type": "display_data",
          "data": {
            "image/png": "[encoded data removed]",
            "text/plain": [
              "<Figure size 432x288 with 1 Axes>"
            ]
          },
          "metadata": {
            "tags": []
          }
        },
        {
          "output_type": "display_data",
          "data": {
            "image/png": "[encoded data removed]",
            "text/plain": [
              "<Figure size 432x288 with 1 Axes>"
            ]
          },
          "metadata": {
            "tags": []
          }
        },
        {
          "output_type": "display_data",
          "data": {
            "image/png": "[encoded data removed]",
            "text/plain": [
              "<Figure size 432x288 with 1 Axes>"
            ]
          },
          "metadata": {
            "tags": []
          }
        },
        {
          "output_type": "display_data",
          "data": {
            "image/png": "[encoded data removed]",
            "text/plain": [
              "<Figure size 432x288 with 1 Axes>"
            ]
          },
          "metadata": {
            "tags": []
          }
        }
      ]
    },
    {
      "cell_type": "code",
      "metadata": {
        "id": "NoQeqEvaxaca",
        "colab_type": "code",
        "colab": {
          "base_uri": "https://localhost:8080/",
          "height": 85
        },
        "outputId": "37f45b98-b977-4075-b5fd-8683e6eb9936"
      },
      "source": [
        "# Import holiday data for merge\n",
        "url = \"https://raw.githubusercontent.com/columbia-university-libraries-data-club/intro-to-data/master/usholidays.csv\"\n",
        "\n",
        "holidays = pd.read_csv(url, parse_dates=[\"Date\"])\n",
        "holidays.dtypes"
      ],
      "execution_count": 13,
      "outputs": [
        {
          "output_type": "execute_result",
          "data": {
            "text/plain": [
              "Unnamed: 0             int64\n",
              "Date          datetime64[ns]\n",
              "Holiday               object\n",
              "dtype: object"
            ]
          },
          "metadata": {
            "tags": []
          },
          "execution_count": 13
        }
      ]
    },
    {
      "cell_type": "markdown",
      "metadata": {
        "id": "eZy-WmCZeMNb",
        "colab_type": "text"
      },
      "source": [
        "## **Statistical analysis and visualization**\n",
        "### *(with pandas and matplotlib)*\n",
        "***\n",
        "Topics to be covered:\n",
        "1. Correlation, regression (only do two simple examples, and then point to cheat sheet with rest of potential tests + packages) - make sure to point out that had they not cleaned the data results would have been quite different\n",
        "2. Plotting (two simple examples, then show cheat sheet with all different possiblities)"
      ]
    },
    {
      "cell_type": "markdown",
      "metadata": {
        "id": "YSyyHUN-CV4d",
        "colab_type": "text"
      },
      "source": [
        "Now that we've cleaned up our data, let's ask a few questions! What are some variables that might be related?\n",
        "- Time of day and number of pickups\n",
        "- Time of day and tip percent\n",
        "- Passenger number and tip percent\n",
        "- Passenger number and distance\n",
        "\n",
        "To answer questions about relationships, there are a few easy methods we can use:\n",
        "- visualization\n",
        "- correlation coefficients\n",
        "- t-tests\n",
        "\n",
        "You can do statistical testing quite easily using statsmodel!"
      ]
    },
    {
      "cell_type": "code",
      "metadata": {
        "id": "nSqQR4ktCUL_",
        "colab_type": "code",
        "colab": {}
      },
      "source": [
        ""
      ],
      "execution_count": 0,
      "outputs": []
    },
    {
      "cell_type": "markdown",
      "metadata": {
        "id": "dCvR5GlNlitr",
        "colab_type": "text"
      },
      "source": [
        "## **Where to find data**\n",
        "### *(using CU Libraries, Google datasets, US government agencies, and many more)*\n",
        "1. Types of data: tabular (survey, transaction, summary, etc.), geospatial, text\n",
        "2. List of potential sources for each of the above\n",
        "3. Tools to collect your own data (mTurk or qualtrics for survey data, scraping for text data)"
      ]
    },
    {
      "cell_type": "markdown",
      "metadata": {
        "id": "aREDh9i6mXhT",
        "colab_type": "text"
      },
      "source": [
        "## **Topics not covered today**\n",
        "***\n",
        "A list of all the topics that you can dive deeper into (asterisks are by the ones that are most important):\n",
        "- github*\n",
        "- statistics*\n",
        "- communication / translation*\n",
        "- visualization*\n",
        "- NLP\n",
        "- ML\n",
        "- Cloud computing + access\n",
        "- geospatial data\n",
        "- applications"
      ]
    },
    {
      "cell_type": "markdown",
      "metadata": {
        "id": "f5HhDh3vnMc4",
        "colab_type": "text"
      },
      "source": [
        "# Appendix - Notes from email chain (reference)\n",
        "***\n",
        "Topics to be covered:\n",
        "- knowledge of data types\n",
        "- working knowledge of data frames, intro to data wrangling\n",
        "- 3-4 common dangers of using data (missing data, duplication, truncation, misleading names)\n",
        "- a few simple commands to summarize data\n",
        "\n",
        "Topics to be presented only:\n",
        "- know a few basic terms of what you can do (regressions, etc.), so you know what to ask for when googling/ asking a library consultant\n",
        "- potential sources for data + sources in library to ask about data\n",
        "- dummy code for visualizing data (cheat sheet)"
      ]
    }
  ]
}