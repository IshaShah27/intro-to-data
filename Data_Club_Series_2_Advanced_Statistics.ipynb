{
  "nbformat": 4,
  "nbformat_minor": 0,
  "metadata": {
    "colab": {
      "name": "Data Club Series 2 - Advanced Statistics.ipynb",
      "provenance": [],
      "authorship_tag": "ABX9TyN6JsmUgslqnmCoFaq8jyjy",
      "include_colab_link": true
    },
    "kernelspec": {
      "name": "python3",
      "display_name": "Python 3"
    }
  },
  "cells": [
    {
      "cell_type": "markdown",
      "metadata": {
        "id": "view-in-github",
        "colab_type": "text"
      },
      "source": [
        "<a href=\"https://colab.research.google.com/github/IshaShah27/intro-to-data/blob/master/Data_Club_Series_2_Advanced_Statistics.ipynb\" target=\"_parent\"><img src=\"https://colab.research.google.com/assets/colab-badge.svg\" alt=\"Open In Colab\"/></a>"
      ]
    },
    {
      "cell_type": "markdown",
      "metadata": {
        "id": "rBjWBVpQn-aE",
        "colab_type": "text"
      },
      "source": [
        "## Data Club Meeting 2:\n",
        "###Advanced data exploration: Understanding relationships within your data\n",
        "\n",
        "Topics covered: Distributions; relationships between variables; bias; hypothesis testing; linear and logistic regressions using statsmodel\n",
        "\n",
        "*Source: Think Stats by Allen Downey*"
      ]
    },
    {
      "cell_type": "code",
      "metadata": {
        "id": "vZKQtAw0nr55",
        "colab_type": "code",
        "colab": {}
      },
      "source": [
        ""
      ],
      "execution_count": 0,
      "outputs": []
    }
  ]
}